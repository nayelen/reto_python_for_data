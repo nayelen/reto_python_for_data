{
 "cells": [
  {
   "cell_type": "code",
   "execution_count": 1,
   "metadata": {},
   "outputs": [],
   "source": [
    "import pandas as pd\n",
    "import sys\n",
    "sys.path.append(\"..\")\n",
    "from src import passwords as ps\n",
    "from src import sp_analisis as sa"
   ]
  },
  {
   "cell_type": "markdown",
   "metadata": {},
   "source": [
    "##  Ejercicio 1. Familiarizarse con la BBDD\n",
    "![esquemaNorthwind](../data/esquemaNorthwind.png)"
   ]
  },
  {
   "cell_type": "markdown",
   "metadata": {},
   "source": [
    "## Ejercicio 2. Primeras consultas\n",
    "\n",
    "- ### ¿Cuántos empleados tenemos contratados en 'Global Importaciones'? Indica su id, nombre, apellido, ciudad y país."
   ]
  },
  {
   "cell_type": "code",
   "execution_count": 2,
   "metadata": {},
   "outputs": [
    {
     "data": {
      "text/html": [
       "<div>\n",
       "<style scoped>\n",
       "    .dataframe tbody tr th:only-of-type {\n",
       "        vertical-align: middle;\n",
       "    }\n",
       "\n",
       "    .dataframe tbody tr th {\n",
       "        vertical-align: top;\n",
       "    }\n",
       "\n",
       "    .dataframe thead th {\n",
       "        text-align: right;\n",
       "    }\n",
       "</style>\n",
       "<table border=\"1\" class=\"dataframe\">\n",
       "  <thead>\n",
       "    <tr style=\"text-align: right;\">\n",
       "      <th></th>\n",
       "      <th>employee_id</th>\n",
       "      <th>employee_name</th>\n",
       "      <th>city</th>\n",
       "      <th>country</th>\n",
       "    </tr>\n",
       "  </thead>\n",
       "  <tbody>\n",
       "    <tr>\n",
       "      <th>0</th>\n",
       "      <td>1</td>\n",
       "      <td>Nancy Davolio</td>\n",
       "      <td>Seattle</td>\n",
       "      <td>USA</td>\n",
       "    </tr>\n",
       "    <tr>\n",
       "      <th>1</th>\n",
       "      <td>2</td>\n",
       "      <td>Andrew Fuller</td>\n",
       "      <td>Tacoma</td>\n",
       "      <td>USA</td>\n",
       "    </tr>\n",
       "    <tr>\n",
       "      <th>2</th>\n",
       "      <td>3</td>\n",
       "      <td>Janet Leverling</td>\n",
       "      <td>Kirkland</td>\n",
       "      <td>USA</td>\n",
       "    </tr>\n",
       "    <tr>\n",
       "      <th>3</th>\n",
       "      <td>4</td>\n",
       "      <td>Margaret Peacock</td>\n",
       "      <td>Redmond</td>\n",
       "      <td>USA</td>\n",
       "    </tr>\n",
       "    <tr>\n",
       "      <th>4</th>\n",
       "      <td>5</td>\n",
       "      <td>Steven Buchanan</td>\n",
       "      <td>London</td>\n",
       "      <td>UK</td>\n",
       "    </tr>\n",
       "    <tr>\n",
       "      <th>5</th>\n",
       "      <td>6</td>\n",
       "      <td>Michael Suyama</td>\n",
       "      <td>London</td>\n",
       "      <td>UK</td>\n",
       "    </tr>\n",
       "    <tr>\n",
       "      <th>6</th>\n",
       "      <td>7</td>\n",
       "      <td>Robert King</td>\n",
       "      <td>London</td>\n",
       "      <td>UK</td>\n",
       "    </tr>\n",
       "    <tr>\n",
       "      <th>7</th>\n",
       "      <td>8</td>\n",
       "      <td>Laura Callahan</td>\n",
       "      <td>Seattle</td>\n",
       "      <td>USA</td>\n",
       "    </tr>\n",
       "    <tr>\n",
       "      <th>8</th>\n",
       "      <td>9</td>\n",
       "      <td>Anne Dodsworth</td>\n",
       "      <td>London</td>\n",
       "      <td>UK</td>\n",
       "    </tr>\n",
       "  </tbody>\n",
       "</table>\n",
       "</div>"
      ],
      "text/plain": [
       "   employee_id     employee_name      city country\n",
       "0            1     Nancy Davolio   Seattle     USA\n",
       "1            2     Andrew Fuller    Tacoma     USA\n",
       "2            3   Janet Leverling  Kirkland     USA\n",
       "3            4  Margaret Peacock   Redmond     USA\n",
       "4            5   Steven Buchanan    London      UK\n",
       "5            6    Michael Suyama    London      UK\n",
       "6            7       Robert King    London      UK\n",
       "7            8    Laura Callahan   Seattle     USA\n",
       "8            9    Anne Dodsworth    London      UK"
      ]
     },
     "execution_count": 2,
     "metadata": {},
     "output_type": "execute_result"
    }
   ],
   "source": [
    "query_employee = ''' SELECT  \"employee_id\", \n",
    "                              CONCAT(\"first_name\", ' ', \"last_name\") AS \"employee_name\",\n",
    "                              \"city\", \n",
    "                              \"country\"\n",
    "                      FROM \"employees\";\n",
    "                  '''\n",
    "df_Employee= sa.pasos_querys(query_employee)\n",
    "df_Employee"
   ]
  },
  {
   "cell_type": "code",
   "execution_count": 14,
   "metadata": {},
   "outputs": [
    {
     "name": "stdout",
     "output_type": "stream",
     "text": [
      "En Global Importaciones tenemos contratados a 9 personas\n"
     ]
    }
   ],
   "source": [
    "print(f'En Global Importaciones tenemos contratados a {df_Employee[\"employee_id\"].count()} personas')"
   ]
  },
  {
   "cell_type": "markdown",
   "metadata": {},
   "source": [
    "- ### ¿Qué productos tenemos? Indica el id del producto, id del proveedor, nombre del producto, precio por unidad, unidades en stock, unidades pedidas al proveedor y productos descontinuados"
   ]
  },
  {
   "cell_type": "code",
   "execution_count": 3,
   "metadata": {},
   "outputs": [
    {
     "data": {
      "text/html": [
       "<div>\n",
       "<style scoped>\n",
       "    .dataframe tbody tr th:only-of-type {\n",
       "        vertical-align: middle;\n",
       "    }\n",
       "\n",
       "    .dataframe tbody tr th {\n",
       "        vertical-align: top;\n",
       "    }\n",
       "\n",
       "    .dataframe thead th {\n",
       "        text-align: right;\n",
       "    }\n",
       "</style>\n",
       "<table border=\"1\" class=\"dataframe\">\n",
       "  <thead>\n",
       "    <tr style=\"text-align: right;\">\n",
       "      <th></th>\n",
       "      <th>product_id</th>\n",
       "      <th>supplier_id</th>\n",
       "      <th>category_id</th>\n",
       "      <th>product_name</th>\n",
       "      <th>unit_price</th>\n",
       "      <th>units_in_stock</th>\n",
       "      <th>units_on_order</th>\n",
       "      <th>discontinued</th>\n",
       "    </tr>\n",
       "  </thead>\n",
       "  <tbody>\n",
       "    <tr>\n",
       "      <th>57</th>\n",
       "      <td>58</td>\n",
       "      <td>27</td>\n",
       "      <td>8</td>\n",
       "      <td>Escargots de Bourgogne</td>\n",
       "      <td>13.25</td>\n",
       "      <td>62</td>\n",
       "      <td>0</td>\n",
       "      <td>0</td>\n",
       "    </tr>\n",
       "  </tbody>\n",
       "</table>\n",
       "</div>"
      ],
      "text/plain": [
       "    product_id  supplier_id  category_id            product_name  unit_price  \\\n",
       "57          58           27            8  Escargots de Bourgogne       13.25   \n",
       "\n",
       "    units_in_stock  units_on_order  discontinued  \n",
       "57              62               0             0  "
      ]
     },
     "execution_count": 3,
     "metadata": {},
     "output_type": "execute_result"
    }
   ],
   "source": [
    "query_products = ''' SELECT  \"product_id\",\n",
    "                              \"supplier_id\",\n",
    "                              \"category_id\",\n",
    "                              \"product_name\",\n",
    "                              \"unit_price\",\n",
    "                              \"units_in_stock\",\n",
    "                              \"units_on_order\",\n",
    "                              \"discontinued\"\n",
    "                      FROM \"products\";\n",
    "                  '''\n",
    "df_Products= sa.pasos_querys(query_products)\n",
    "df_Products.sample()"
   ]
  },
  {
   "cell_type": "code",
   "execution_count": 16,
   "metadata": {},
   "outputs": [
    {
     "name": "stdout",
     "output_type": "stream",
     "text": [
      "En Global Importaciones tenemos 77 productos\n"
     ]
    }
   ],
   "source": [
    "print(f'En Global Importaciones tenemos {df_Products[\"product_id\"].count()} productos')"
   ]
  },
  {
   "cell_type": "code",
   "execution_count": 17,
   "metadata": {},
   "outputs": [],
   "source": [
    "df_Products.to_csv('../data/products.csv', index=False)"
   ]
  },
  {
   "cell_type": "markdown",
   "metadata": {},
   "source": [
    "- ### ¿Tenemos productos descontinuados?. Indica el nombre del producto, y cantidad que nos queda en stock. "
   ]
  },
  {
   "cell_type": "code",
   "execution_count": 4,
   "metadata": {},
   "outputs": [
    {
     "data": {
      "text/html": [
       "<div>\n",
       "<style scoped>\n",
       "    .dataframe tbody tr th:only-of-type {\n",
       "        vertical-align: middle;\n",
       "    }\n",
       "\n",
       "    .dataframe tbody tr th {\n",
       "        vertical-align: top;\n",
       "    }\n",
       "\n",
       "    .dataframe thead th {\n",
       "        text-align: right;\n",
       "    }\n",
       "</style>\n",
       "<table border=\"1\" class=\"dataframe\">\n",
       "  <thead>\n",
       "    <tr style=\"text-align: right;\">\n",
       "      <th></th>\n",
       "      <th>product_name</th>\n",
       "      <th>units_in_stock</th>\n",
       "      <th>discontinued</th>\n",
       "    </tr>\n",
       "  </thead>\n",
       "  <tbody>\n",
       "    <tr>\n",
       "      <th>5</th>\n",
       "      <td>Guaraná Fantástica</td>\n",
       "      <td>20</td>\n",
       "      <td>1</td>\n",
       "    </tr>\n",
       "  </tbody>\n",
       "</table>\n",
       "</div>"
      ],
      "text/plain": [
       "         product_name  units_in_stock  discontinued\n",
       "5  Guaraná Fantástica              20             1"
      ]
     },
     "execution_count": 4,
     "metadata": {},
     "output_type": "execute_result"
    }
   ],
   "source": [
    "query_discontinued = ''' SELECT \"product_name\",\n",
    "                              \"units_in_stock\",\n",
    "                              \"discontinued\"\n",
    "                          FROM \"products\"\n",
    "                          WHERE \"discontinued\" = 1;\n",
    "                      '''\n",
    "df_Products_discontinued = sa.pasos_querys(query_discontinued)\n",
    "df_Products_discontinued.sample()"
   ]
  },
  {
   "cell_type": "code",
   "execution_count": 5,
   "metadata": {},
   "outputs": [
    {
     "name": "stdout",
     "output_type": "stream",
     "text": [
      "Tenemos 10 productos descontinuados\n"
     ]
    }
   ],
   "source": [
    "print(f'Tenemos {df_Products_discontinued [\"discontinued\"].count()} productos descontinuados')"
   ]
  },
  {
   "cell_type": "markdown",
   "metadata": {},
   "source": [
    "- ### ¿Qué proveedores tenemos? Indica el id de la compañía, nombre de la compañía, ciudad y país."
   ]
  },
  {
   "cell_type": "code",
   "execution_count": 6,
   "metadata": {},
   "outputs": [
    {
     "data": {
      "text/html": [
       "<div>\n",
       "<style scoped>\n",
       "    .dataframe tbody tr th:only-of-type {\n",
       "        vertical-align: middle;\n",
       "    }\n",
       "\n",
       "    .dataframe tbody tr th {\n",
       "        vertical-align: top;\n",
       "    }\n",
       "\n",
       "    .dataframe thead th {\n",
       "        text-align: right;\n",
       "    }\n",
       "</style>\n",
       "<table border=\"1\" class=\"dataframe\">\n",
       "  <thead>\n",
       "    <tr style=\"text-align: right;\">\n",
       "      <th></th>\n",
       "      <th>supplier_id</th>\n",
       "      <th>company_name</th>\n",
       "      <th>city</th>\n",
       "      <th>country</th>\n",
       "    </tr>\n",
       "  </thead>\n",
       "  <tbody>\n",
       "    <tr>\n",
       "      <th>13</th>\n",
       "      <td>14</td>\n",
       "      <td>Formaggi Fortini s.r.l.</td>\n",
       "      <td>Ravenna</td>\n",
       "      <td>Italy</td>\n",
       "    </tr>\n",
       "  </tbody>\n",
       "</table>\n",
       "</div>"
      ],
      "text/plain": [
       "    supplier_id             company_name     city country\n",
       "13           14  Formaggi Fortini s.r.l.  Ravenna   Italy"
      ]
     },
     "execution_count": 6,
     "metadata": {},
     "output_type": "execute_result"
    }
   ],
   "source": [
    "query_suppliers = ''' SELECT \"supplier_id\",\n",
    "                              \"company_name\",\n",
    "                              \"city\",\n",
    "                              \"country\"\n",
    "                        FROM \"suppliers\"                    \n",
    "                  '''\n",
    "\n",
    "df_Suppliers = sa.pasos_querys(query_suppliers)\n",
    "df_Suppliers.sample()"
   ]
  },
  {
   "cell_type": "code",
   "execution_count": 7,
   "metadata": {},
   "outputs": [
    {
     "name": "stdout",
     "output_type": "stream",
     "text": [
      "Tenemos un total de 29 proveedores\n"
     ]
    }
   ],
   "source": [
    "print(f'Tenemos un total de {df_Suppliers[\"supplier_id\"].count()} proveedores')"
   ]
  },
  {
   "cell_type": "code",
   "execution_count": 22,
   "metadata": {},
   "outputs": [],
   "source": [
    "df_Suppliers.to_csv('../data/suppliers.csv', index=False)"
   ]
  },
  {
   "cell_type": "markdown",
   "metadata": {},
   "source": [
    "- ### ¿Qué pedidos hemos tenido? Indica el número de pedido, id del cliente,id del transportista, dia del pedido, día requerido de llegada y día de llegada real."
   ]
  },
  {
   "cell_type": "code",
   "execution_count": 8,
   "metadata": {},
   "outputs": [
    {
     "data": {
      "text/html": [
       "<div>\n",
       "<style scoped>\n",
       "    .dataframe tbody tr th:only-of-type {\n",
       "        vertical-align: middle;\n",
       "    }\n",
       "\n",
       "    .dataframe tbody tr th {\n",
       "        vertical-align: top;\n",
       "    }\n",
       "\n",
       "    .dataframe thead th {\n",
       "        text-align: right;\n",
       "    }\n",
       "</style>\n",
       "<table border=\"1\" class=\"dataframe\">\n",
       "  <thead>\n",
       "    <tr style=\"text-align: right;\">\n",
       "      <th></th>\n",
       "      <th>order_id</th>\n",
       "      <th>customer_id</th>\n",
       "      <th>ship_via</th>\n",
       "      <th>order_date</th>\n",
       "      <th>required_date</th>\n",
       "      <th>shipped_date</th>\n",
       "    </tr>\n",
       "  </thead>\n",
       "  <tbody>\n",
       "    <tr>\n",
       "      <th>135</th>\n",
       "      <td>10383</td>\n",
       "      <td>AROUT</td>\n",
       "      <td>3</td>\n",
       "      <td>1996-12-16</td>\n",
       "      <td>1997-01-13</td>\n",
       "      <td>1996-12-18</td>\n",
       "    </tr>\n",
       "  </tbody>\n",
       "</table>\n",
       "</div>"
      ],
      "text/plain": [
       "     order_id customer_id  ship_via  order_date required_date shipped_date\n",
       "135     10383       AROUT         3  1996-12-16    1997-01-13   1996-12-18"
      ]
     },
     "execution_count": 8,
     "metadata": {},
     "output_type": "execute_result"
    }
   ],
   "source": [
    "query_orders = ''' SELECT \"order_id\",\n",
    "                          \"customer_id\",\n",
    "                          \"ship_via\",\n",
    "                          \"order_date\",\n",
    "                          \"required_date\",\n",
    "                          \"shipped_date\"\n",
    "                    FROM \"orders\"\n",
    "               '''\n",
    "df_Orders = sa.pasos_querys(query_orders)\n",
    "df_Orders.sample()"
   ]
  },
  {
   "cell_type": "code",
   "execution_count": 24,
   "metadata": {},
   "outputs": [],
   "source": [
    "df_Orders.to_csv('../data/orders.csv', index=False)"
   ]
  },
  {
   "cell_type": "markdown",
   "metadata": {},
   "source": [
    "- ### ¿Cuántos pedidos hemos tenido?"
   ]
  },
  {
   "cell_type": "code",
   "execution_count": 25,
   "metadata": {},
   "outputs": [
    {
     "name": "stdout",
     "output_type": "stream",
     "text": [
      "Hemos tenido 830 pedidos\n"
     ]
    }
   ],
   "source": [
    "print(f'Hemos tenido {df_Orders[\"order_id\"].count()} pedidos')"
   ]
  },
  {
   "cell_type": "markdown",
   "metadata": {},
   "source": [
    "- ### ¿Cuántos clientes tenemos? Indica el id del cliente, nombre de la compañía, ciudad y país."
   ]
  },
  {
   "cell_type": "code",
   "execution_count": 9,
   "metadata": {},
   "outputs": [
    {
     "data": {
      "text/html": [
       "<div>\n",
       "<style scoped>\n",
       "    .dataframe tbody tr th:only-of-type {\n",
       "        vertical-align: middle;\n",
       "    }\n",
       "\n",
       "    .dataframe tbody tr th {\n",
       "        vertical-align: top;\n",
       "    }\n",
       "\n",
       "    .dataframe thead th {\n",
       "        text-align: right;\n",
       "    }\n",
       "</style>\n",
       "<table border=\"1\" class=\"dataframe\">\n",
       "  <thead>\n",
       "    <tr style=\"text-align: right;\">\n",
       "      <th></th>\n",
       "      <th>customer_id</th>\n",
       "      <th>company_name</th>\n",
       "      <th>city</th>\n",
       "      <th>country</th>\n",
       "    </tr>\n",
       "  </thead>\n",
       "  <tbody>\n",
       "    <tr>\n",
       "      <th>87</th>\n",
       "      <td>WELLI</td>\n",
       "      <td>Wellington Importadora</td>\n",
       "      <td>Resende</td>\n",
       "      <td>Brazil</td>\n",
       "    </tr>\n",
       "  </tbody>\n",
       "</table>\n",
       "</div>"
      ],
      "text/plain": [
       "   customer_id            company_name     city country\n",
       "87       WELLI  Wellington Importadora  Resende  Brazil"
      ]
     },
     "execution_count": 9,
     "metadata": {},
     "output_type": "execute_result"
    }
   ],
   "source": [
    "query_customers = ''' SELECT \"customer_id\",\n",
    "                              \"company_name\",\n",
    "                              \"city\",\n",
    "                              \"country\"\n",
    "                      FROM \"customers\"\n",
    "                  '''\n",
    "df_Customers = sa.pasos_querys(query_customers)\n",
    "df_Customers.sample()"
   ]
  },
  {
   "cell_type": "code",
   "execution_count": 10,
   "metadata": {},
   "outputs": [
    {
     "name": "stdout",
     "output_type": "stream",
     "text": [
      "Tenemos un total de 91 clientes\n"
     ]
    }
   ],
   "source": [
    "print(f'Tenemos un total de {df_Customers[\"customer_id\"].count()} clientes')"
   ]
  },
  {
   "cell_type": "code",
   "execution_count": 28,
   "metadata": {},
   "outputs": [],
   "source": [
    "df_Customers.to_csv('../data/customers.csv', index=False)"
   ]
  },
  {
   "cell_type": "markdown",
   "metadata": {},
   "source": [
    "- ### ¿Con qué empresas de transporte trabajamos? Indica su id del transportista y el nombre de la compañía."
   ]
  },
  {
   "cell_type": "code",
   "execution_count": 11,
   "metadata": {},
   "outputs": [
    {
     "data": {
      "text/html": [
       "<div>\n",
       "<style scoped>\n",
       "    .dataframe tbody tr th:only-of-type {\n",
       "        vertical-align: middle;\n",
       "    }\n",
       "\n",
       "    .dataframe tbody tr th {\n",
       "        vertical-align: top;\n",
       "    }\n",
       "\n",
       "    .dataframe thead th {\n",
       "        text-align: right;\n",
       "    }\n",
       "</style>\n",
       "<table border=\"1\" class=\"dataframe\">\n",
       "  <thead>\n",
       "    <tr style=\"text-align: right;\">\n",
       "      <th></th>\n",
       "      <th>shipper_id</th>\n",
       "      <th>company_name</th>\n",
       "    </tr>\n",
       "  </thead>\n",
       "  <tbody>\n",
       "    <tr>\n",
       "      <th>3</th>\n",
       "      <td>4</td>\n",
       "      <td>Alliance Shippers</td>\n",
       "    </tr>\n",
       "  </tbody>\n",
       "</table>\n",
       "</div>"
      ],
      "text/plain": [
       "   shipper_id       company_name\n",
       "3           4  Alliance Shippers"
      ]
     },
     "execution_count": 11,
     "metadata": {},
     "output_type": "execute_result"
    }
   ],
   "source": [
    "query_shippers = ''' SELECT \"shipper_id\",\n",
    "                            \"company_name\"\n",
    "                    From \"shippers\"                  \n",
    "                  '''\n",
    "df_Shippers = sa.pasos_querys(query_shippers)\n",
    "df_Shippers.sample()"
   ]
  },
  {
   "cell_type": "code",
   "execution_count": 30,
   "metadata": {},
   "outputs": [
    {
     "name": "stdout",
     "output_type": "stream",
     "text": [
      "Trabajamos con un total de 6 empresas de transporte\n"
     ]
    }
   ],
   "source": [
    "print(f'Trabajamos con un total de {df_Shippers[\"shipper_id\"].count()} empresas de transporte')"
   ]
  },
  {
   "cell_type": "code",
   "execution_count": 31,
   "metadata": {},
   "outputs": [],
   "source": [
    "df_Shippers.to_csv('../data/shippers.csv', index=False)"
   ]
  },
  {
   "cell_type": "markdown",
   "metadata": {},
   "source": [
    "- ### ¿Cómo son las relaciones de reporte de resultados entre los empleados?"
   ]
  },
  {
   "cell_type": "code",
   "execution_count": 12,
   "metadata": {},
   "outputs": [
    {
     "data": {
      "text/html": [
       "<div>\n",
       "<style scoped>\n",
       "    .dataframe tbody tr th:only-of-type {\n",
       "        vertical-align: middle;\n",
       "    }\n",
       "\n",
       "    .dataframe tbody tr th {\n",
       "        vertical-align: top;\n",
       "    }\n",
       "\n",
       "    .dataframe thead th {\n",
       "        text-align: right;\n",
       "    }\n",
       "</style>\n",
       "<table border=\"1\" class=\"dataframe\">\n",
       "  <thead>\n",
       "    <tr style=\"text-align: right;\">\n",
       "      <th></th>\n",
       "      <th>employee_id</th>\n",
       "      <th>employee_name</th>\n",
       "      <th>reports_to</th>\n",
       "    </tr>\n",
       "  </thead>\n",
       "  <tbody>\n",
       "    <tr>\n",
       "      <th>3</th>\n",
       "      <td>4</td>\n",
       "      <td>Margaret Peacock</td>\n",
       "      <td>2.0</td>\n",
       "    </tr>\n",
       "  </tbody>\n",
       "</table>\n",
       "</div>"
      ],
      "text/plain": [
       "   employee_id     employee_name  reports_to\n",
       "3            4  Margaret Peacock         2.0"
      ]
     },
     "execution_count": 12,
     "metadata": {},
     "output_type": "execute_result"
    }
   ],
   "source": [
    "query_reports = ''' SELECT \"employee_id\",\n",
    "                            CONCAT(\"first_name\", ' ', \"last_name\") AS \"employee_name\",\n",
    "                            \"reports_to\"\n",
    "                      FROM \"employees\";    \n",
    "                '''\n",
    "df_Reports = sa.pasos_querys(query_reports)\n",
    "df_Reports.sample()"
   ]
  },
  {
   "cell_type": "code",
   "execution_count": 13,
   "metadata": {},
   "outputs": [
    {
     "data": {
      "text/html": [
       "<div>\n",
       "<style scoped>\n",
       "    .dataframe tbody tr th:only-of-type {\n",
       "        vertical-align: middle;\n",
       "    }\n",
       "\n",
       "    .dataframe tbody tr th {\n",
       "        vertical-align: top;\n",
       "    }\n",
       "\n",
       "    .dataframe thead th {\n",
       "        text-align: right;\n",
       "    }\n",
       "</style>\n",
       "<table border=\"1\" class=\"dataframe\">\n",
       "  <thead>\n",
       "    <tr style=\"text-align: right;\">\n",
       "      <th></th>\n",
       "      <th>employee_id</th>\n",
       "      <th>employee_name</th>\n",
       "      <th>reports_to</th>\n",
       "      <th>employee_id_manager</th>\n",
       "      <th>manager_name</th>\n",
       "    </tr>\n",
       "  </thead>\n",
       "  <tbody>\n",
       "    <tr>\n",
       "      <th>0</th>\n",
       "      <td>1</td>\n",
       "      <td>Nancy Davolio</td>\n",
       "      <td>2.0</td>\n",
       "      <td>2.0</td>\n",
       "      <td>Andrew Fuller</td>\n",
       "    </tr>\n",
       "    <tr>\n",
       "      <th>1</th>\n",
       "      <td>2</td>\n",
       "      <td>Andrew Fuller</td>\n",
       "      <td>NaN</td>\n",
       "      <td>NaN</td>\n",
       "      <td>NaN</td>\n",
       "    </tr>\n",
       "    <tr>\n",
       "      <th>2</th>\n",
       "      <td>3</td>\n",
       "      <td>Janet Leverling</td>\n",
       "      <td>2.0</td>\n",
       "      <td>2.0</td>\n",
       "      <td>Andrew Fuller</td>\n",
       "    </tr>\n",
       "    <tr>\n",
       "      <th>3</th>\n",
       "      <td>4</td>\n",
       "      <td>Margaret Peacock</td>\n",
       "      <td>2.0</td>\n",
       "      <td>2.0</td>\n",
       "      <td>Andrew Fuller</td>\n",
       "    </tr>\n",
       "    <tr>\n",
       "      <th>4</th>\n",
       "      <td>5</td>\n",
       "      <td>Steven Buchanan</td>\n",
       "      <td>2.0</td>\n",
       "      <td>2.0</td>\n",
       "      <td>Andrew Fuller</td>\n",
       "    </tr>\n",
       "    <tr>\n",
       "      <th>5</th>\n",
       "      <td>6</td>\n",
       "      <td>Michael Suyama</td>\n",
       "      <td>5.0</td>\n",
       "      <td>5.0</td>\n",
       "      <td>Steven Buchanan</td>\n",
       "    </tr>\n",
       "    <tr>\n",
       "      <th>6</th>\n",
       "      <td>7</td>\n",
       "      <td>Robert King</td>\n",
       "      <td>5.0</td>\n",
       "      <td>5.0</td>\n",
       "      <td>Steven Buchanan</td>\n",
       "    </tr>\n",
       "    <tr>\n",
       "      <th>7</th>\n",
       "      <td>8</td>\n",
       "      <td>Laura Callahan</td>\n",
       "      <td>2.0</td>\n",
       "      <td>2.0</td>\n",
       "      <td>Andrew Fuller</td>\n",
       "    </tr>\n",
       "    <tr>\n",
       "      <th>8</th>\n",
       "      <td>9</td>\n",
       "      <td>Anne Dodsworth</td>\n",
       "      <td>5.0</td>\n",
       "      <td>5.0</td>\n",
       "      <td>Steven Buchanan</td>\n",
       "    </tr>\n",
       "  </tbody>\n",
       "</table>\n",
       "</div>"
      ],
      "text/plain": [
       "   employee_id     employee_name  reports_to  employee_id_manager  \\\n",
       "0            1     Nancy Davolio         2.0                  2.0   \n",
       "1            2     Andrew Fuller         NaN                  NaN   \n",
       "2            3   Janet Leverling         2.0                  2.0   \n",
       "3            4  Margaret Peacock         2.0                  2.0   \n",
       "4            5   Steven Buchanan         2.0                  2.0   \n",
       "5            6    Michael Suyama         5.0                  5.0   \n",
       "6            7       Robert King         5.0                  5.0   \n",
       "7            8    Laura Callahan         2.0                  2.0   \n",
       "8            9    Anne Dodsworth         5.0                  5.0   \n",
       "\n",
       "      manager_name  \n",
       "0    Andrew Fuller  \n",
       "1              NaN  \n",
       "2    Andrew Fuller  \n",
       "3    Andrew Fuller  \n",
       "4    Andrew Fuller  \n",
       "5  Steven Buchanan  \n",
       "6  Steven Buchanan  \n",
       "7    Andrew Fuller  \n",
       "8  Steven Buchanan  "
      ]
     },
     "execution_count": 13,
     "metadata": {},
     "output_type": "execute_result"
    }
   ],
   "source": [
    "# Hago un self-join para obtener el nombre del supervisor\n",
    "df_Reports = df_Reports.merge(df_Reports[['employee_id', 'employee_name']], \n",
    "                              left_on='reports_to', \n",
    "                              right_on='employee_id', \n",
    "                              how='left', \n",
    "                              suffixes=('', '_manager'))\n",
    "\n",
    "# Renombro la columna con el nombre del supervisor\n",
    "df_Reports.rename(columns={'employee_name_manager': 'manager_name'}, inplace=True)\n",
    "df_Reports"
   ]
  },
  {
   "cell_type": "code",
   "execution_count": 14,
   "metadata": {},
   "outputs": [
    {
     "name": "stdout",
     "output_type": "stream",
     "text": [
      "El supervisor Andrew Fuller tiene 5 empleados.\n",
      "El supervisor Steven Buchanan tiene 3 empleados.\n"
     ]
    }
   ],
   "source": [
    "# Contar cuántos empleados tiene cada supervisor\n",
    "supervisores = df_Reports.groupby('manager_name')['employee_id'].count()\n",
    "\n",
    "# Crear el mensaje para cada supervisor\n",
    "for supervisor, num_empleados in supervisores.items():\n",
    "    print(f'El supervisor {supervisor} tiene {num_empleados} empleados.')\n"
   ]
  }
 ],
 "metadata": {
  "kernelspec": {
   "display_name": "venv",
   "language": "python",
   "name": "python3"
  },
  "language_info": {
   "codemirror_mode": {
    "name": "ipython",
    "version": 3
   },
   "file_extension": ".py",
   "mimetype": "text/x-python",
   "name": "python",
   "nbconvert_exporter": "python",
   "pygments_lexer": "ipython3",
   "version": "3.9.6"
  }
 },
 "nbformat": 4,
 "nbformat_minor": 2
}
