{
 "cells": [
  {
   "cell_type": "code",
   "execution_count": null,
   "metadata": {},
   "outputs": [
    {
     "name": "stdout",
     "output_type": "stream",
     "text": [
      "The autoreload extension is already loaded. To reload it, use:\n",
      "  %reload_ext autoreload\n"
     ]
    }
   ],
   "source": [
    "%load_ext autoreload\n",
    "%autoreload 2\n",
    "import pandas as pd\n",
    "pd.set_option('display.float_format', lambda x: '%.4f' % x)\n",
    "import sys\n",
    "sys.path.append(\"..\")\n",
    "import plotly.express as px\n",
    "from src import sp_analisis as sa\n",
    "from src import sp_visualizacion as sv"
   ]
  },
  {
   "cell_type": "markdown",
   "metadata": {},
   "source": [
    "## Ejercicio 3. Análisis de la empresa"
   ]
  },
  {
   "cell_type": "code",
   "execution_count": 28,
   "metadata": {},
   "outputs": [],
   "source": [
    "df_Orders = pd.read_csv('../data/orders.csv')"
   ]
  },
  {
   "cell_type": "code",
   "execution_count": 27,
   "metadata": {},
   "outputs": [
    {
     "data": {
      "text/html": [
       "<div>\n",
       "<style scoped>\n",
       "    .dataframe tbody tr th:only-of-type {\n",
       "        vertical-align: middle;\n",
       "    }\n",
       "\n",
       "    .dataframe tbody tr th {\n",
       "        vertical-align: top;\n",
       "    }\n",
       "\n",
       "    .dataframe thead th {\n",
       "        text-align: right;\n",
       "    }\n",
       "</style>\n",
       "<table border=\"1\" class=\"dataframe\">\n",
       "  <thead>\n",
       "    <tr style=\"text-align: right;\">\n",
       "      <th></th>\n",
       "      <th>order_id</th>\n",
       "      <th>customer_id</th>\n",
       "      <th>ship_via</th>\n",
       "      <th>order_date</th>\n",
       "      <th>required_date</th>\n",
       "      <th>shipped_date</th>\n",
       "      <th>Year</th>\n",
       "      <th>Month</th>\n",
       "    </tr>\n",
       "  </thead>\n",
       "  <tbody>\n",
       "    <tr>\n",
       "      <th>226</th>\n",
       "      <td>10474</td>\n",
       "      <td>PERIC</td>\n",
       "      <td>2</td>\n",
       "      <td>1997-03-13</td>\n",
       "      <td>1997-04-10</td>\n",
       "      <td>1997-03-21</td>\n",
       "      <td>1997</td>\n",
       "      <td>3</td>\n",
       "    </tr>\n",
       "    <tr>\n",
       "      <th>742</th>\n",
       "      <td>10990</td>\n",
       "      <td>ERNSH</td>\n",
       "      <td>3</td>\n",
       "      <td>1998-04-01</td>\n",
       "      <td>1998-05-13</td>\n",
       "      <td>1998-04-07</td>\n",
       "      <td>1998</td>\n",
       "      <td>4</td>\n",
       "    </tr>\n",
       "  </tbody>\n",
       "</table>\n",
       "</div>"
      ],
      "text/plain": [
       "     order_id customer_id  ship_via order_date required_date shipped_date  \\\n",
       "226     10474       PERIC         2 1997-03-13    1997-04-10   1997-03-21   \n",
       "742     10990       ERNSH         3 1998-04-01    1998-05-13   1998-04-07   \n",
       "\n",
       "     Year  Month  \n",
       "226  1997      3  \n",
       "742  1998      4  "
      ]
     },
     "execution_count": 27,
     "metadata": {},
     "output_type": "execute_result"
    }
   ],
   "source": [
    "#paso las columnas de fecha a tipo fecha \n",
    "df_Orders[['order_date','required_date','shipped_date']] = df_Orders[['order_date','required_date','shipped_date']].apply(pd.to_datetime, format='%Y-%m-%d')\n",
    "df_Orders.sample(2)"
   ]
  },
  {
   "cell_type": "code",
   "execution_count": 4,
   "metadata": {},
   "outputs": [],
   "source": [
    "df_Customers = pd.read_csv('../data/customers.csv')"
   ]
  },
  {
   "cell_type": "code",
   "execution_count": 5,
   "metadata": {},
   "outputs": [],
   "source": [
    "# tablas de pedidos y clientes\n",
    "df_customers_orders = pd.merge(df_Customers,\n",
    "                               df_Orders,\n",
    "                               how=\"left\",\n",
    "                               on=\"customer_id\")"
   ]
  },
  {
   "cell_type": "code",
   "execution_count": 82,
   "metadata": {},
   "outputs": [
    {
     "data": {
      "text/html": [
       "<div>\n",
       "<style scoped>\n",
       "    .dataframe tbody tr th:only-of-type {\n",
       "        vertical-align: middle;\n",
       "    }\n",
       "\n",
       "    .dataframe tbody tr th {\n",
       "        vertical-align: top;\n",
       "    }\n",
       "\n",
       "    .dataframe thead th {\n",
       "        text-align: right;\n",
       "    }\n",
       "</style>\n",
       "<table border=\"1\" class=\"dataframe\">\n",
       "  <thead>\n",
       "    <tr style=\"text-align: right;\">\n",
       "      <th></th>\n",
       "      <th>product_id</th>\n",
       "      <th>product_name</th>\n",
       "      <th>unit_price_product</th>\n",
       "      <th>units_in_stock</th>\n",
       "      <th>units_on_order</th>\n",
       "      <th>discontinued</th>\n",
       "      <th>supplier_id</th>\n",
       "      <th>company_supplier</th>\n",
       "      <th>city</th>\n",
       "      <th>country</th>\n",
       "      <th>order_id</th>\n",
       "      <th>unit_price_order</th>\n",
       "      <th>quantity</th>\n",
       "      <th>discount</th>\n",
       "    </tr>\n",
       "  </thead>\n",
       "  <tbody>\n",
       "    <tr>\n",
       "      <th>891</th>\n",
       "      <td>65</td>\n",
       "      <td>Louisiana Fiery Hot Pepper Sauce</td>\n",
       "      <td>21.05</td>\n",
       "      <td>76</td>\n",
       "      <td>0</td>\n",
       "      <td>0</td>\n",
       "      <td>2</td>\n",
       "      <td>New Orleans Cajun Delights</td>\n",
       "      <td>New Orleans</td>\n",
       "      <td>USA</td>\n",
       "      <td>10580</td>\n",
       "      <td>21.05</td>\n",
       "      <td>30</td>\n",
       "      <td>0.05</td>\n",
       "    </tr>\n",
       "    <tr>\n",
       "      <th>232</th>\n",
       "      <td>31</td>\n",
       "      <td>Gorgonzola Telino</td>\n",
       "      <td>12.50</td>\n",
       "      <td>0</td>\n",
       "      <td>70</td>\n",
       "      <td>0</td>\n",
       "      <td>14</td>\n",
       "      <td>Formaggi Fortini s.r.l.</td>\n",
       "      <td>Ravenna</td>\n",
       "      <td>Italy</td>\n",
       "      <td>10335</td>\n",
       "      <td>10.00</td>\n",
       "      <td>25</td>\n",
       "      <td>0.20</td>\n",
       "    </tr>\n",
       "  </tbody>\n",
       "</table>\n",
       "</div>"
      ],
      "text/plain": [
       "     product_id                      product_name  unit_price_product  \\\n",
       "891          65  Louisiana Fiery Hot Pepper Sauce               21.05   \n",
       "232          31                 Gorgonzola Telino               12.50   \n",
       "\n",
       "     units_in_stock  units_on_order  discontinued  supplier_id  \\\n",
       "891              76               0             0            2   \n",
       "232               0              70             0           14   \n",
       "\n",
       "               company_supplier         city country  order_id  \\\n",
       "891  New Orleans Cajun Delights  New Orleans     USA     10580   \n",
       "232     Formaggi Fortini s.r.l.      Ravenna   Italy     10335   \n",
       "\n",
       "     unit_price_order  quantity  discount  \n",
       "891             21.05        30      0.05  \n",
       "232             10.00        25      0.20  "
      ]
     },
     "execution_count": 82,
     "metadata": {},
     "output_type": "execute_result"
    }
   ],
   "source": [
    "# creacion tabla de productos, proveedores y detalles de los pedidos\n",
    "query ='''SELECT p.product_id,\n",
    "                      p.product_name,\n",
    "                      p.unit_price AS \"unit_price_product\", \n",
    "                      p.units_in_stock, \n",
    "                      p.units_on_order, \n",
    "                      p.discontinued, \n",
    "                      s.supplier_id ,\n",
    "                      s.company_name AS \"company_supplier\", \n",
    "                      s.city, \n",
    "                      s.country,\n",
    "                      od.order_id, \n",
    "                      od.unit_price AS \"unit_price_order\", \n",
    "                      od.quantity, \n",
    "                      od.discount\n",
    "FROM products AS p\n",
    "FULL JOIN suppliers AS s\n",
    "ON p.supplier_id = s.supplier_id\n",
    "FULL JOIN order_details AS od\n",
    "ON od.product_id = p.product_id -- Realizo dos FULL JOIN ya que me interesan tanto los registros que coinciden como los que no.\n",
    "'''\n",
    "df_ProductsDT_Suppliers = sa.pasos_querys(query)\n",
    "df_ProductsDT_Suppliers.sample(2)"
   ]
  },
  {
   "cell_type": "markdown",
   "metadata": {},
   "source": [
    "----\n",
    "- #### Haz un estudio de la evolución de los pedidos realizados a lo largo del tiempo. Para ello primero realiza la query necesaria para obtener los meses, años y pedidos durante cada mes. A continuación crea una línea temporal para ver dicha evolución"
   ]
  },
  {
   "cell_type": "code",
   "execution_count": 9,
   "metadata": {},
   "outputs": [
    {
     "data": {
      "text/html": [
       "<div>\n",
       "<style scoped>\n",
       "    .dataframe tbody tr th:only-of-type {\n",
       "        vertical-align: middle;\n",
       "    }\n",
       "\n",
       "    .dataframe tbody tr th {\n",
       "        vertical-align: top;\n",
       "    }\n",
       "\n",
       "    .dataframe thead th {\n",
       "        text-align: right;\n",
       "    }\n",
       "</style>\n",
       "<table border=\"1\" class=\"dataframe\">\n",
       "  <thead>\n",
       "    <tr style=\"text-align: right;\">\n",
       "      <th></th>\n",
       "      <th>Year</th>\n",
       "      <th>Month</th>\n",
       "      <th>order_count</th>\n",
       "      <th>Date</th>\n",
       "    </tr>\n",
       "  </thead>\n",
       "  <tbody>\n",
       "    <tr>\n",
       "      <th>0</th>\n",
       "      <td>1996</td>\n",
       "      <td>7</td>\n",
       "      <td>22</td>\n",
       "      <td>1996-07-01</td>\n",
       "    </tr>\n",
       "    <tr>\n",
       "      <th>1</th>\n",
       "      <td>1996</td>\n",
       "      <td>8</td>\n",
       "      <td>25</td>\n",
       "      <td>1996-08-01</td>\n",
       "    </tr>\n",
       "    <tr>\n",
       "      <th>2</th>\n",
       "      <td>1996</td>\n",
       "      <td>9</td>\n",
       "      <td>23</td>\n",
       "      <td>1996-09-01</td>\n",
       "    </tr>\n",
       "    <tr>\n",
       "      <th>3</th>\n",
       "      <td>1996</td>\n",
       "      <td>10</td>\n",
       "      <td>26</td>\n",
       "      <td>1996-10-01</td>\n",
       "    </tr>\n",
       "    <tr>\n",
       "      <th>4</th>\n",
       "      <td>1996</td>\n",
       "      <td>11</td>\n",
       "      <td>25</td>\n",
       "      <td>1996-11-01</td>\n",
       "    </tr>\n",
       "    <tr>\n",
       "      <th>5</th>\n",
       "      <td>1996</td>\n",
       "      <td>12</td>\n",
       "      <td>31</td>\n",
       "      <td>1996-12-01</td>\n",
       "    </tr>\n",
       "    <tr>\n",
       "      <th>6</th>\n",
       "      <td>1997</td>\n",
       "      <td>1</td>\n",
       "      <td>33</td>\n",
       "      <td>1997-01-01</td>\n",
       "    </tr>\n",
       "    <tr>\n",
       "      <th>7</th>\n",
       "      <td>1997</td>\n",
       "      <td>2</td>\n",
       "      <td>29</td>\n",
       "      <td>1997-02-01</td>\n",
       "    </tr>\n",
       "    <tr>\n",
       "      <th>8</th>\n",
       "      <td>1997</td>\n",
       "      <td>3</td>\n",
       "      <td>30</td>\n",
       "      <td>1997-03-01</td>\n",
       "    </tr>\n",
       "    <tr>\n",
       "      <th>9</th>\n",
       "      <td>1997</td>\n",
       "      <td>4</td>\n",
       "      <td>31</td>\n",
       "      <td>1997-04-01</td>\n",
       "    </tr>\n",
       "    <tr>\n",
       "      <th>10</th>\n",
       "      <td>1997</td>\n",
       "      <td>5</td>\n",
       "      <td>32</td>\n",
       "      <td>1997-05-01</td>\n",
       "    </tr>\n",
       "    <tr>\n",
       "      <th>11</th>\n",
       "      <td>1997</td>\n",
       "      <td>6</td>\n",
       "      <td>30</td>\n",
       "      <td>1997-06-01</td>\n",
       "    </tr>\n",
       "    <tr>\n",
       "      <th>12</th>\n",
       "      <td>1997</td>\n",
       "      <td>7</td>\n",
       "      <td>33</td>\n",
       "      <td>1997-07-01</td>\n",
       "    </tr>\n",
       "    <tr>\n",
       "      <th>13</th>\n",
       "      <td>1997</td>\n",
       "      <td>8</td>\n",
       "      <td>33</td>\n",
       "      <td>1997-08-01</td>\n",
       "    </tr>\n",
       "    <tr>\n",
       "      <th>14</th>\n",
       "      <td>1997</td>\n",
       "      <td>9</td>\n",
       "      <td>37</td>\n",
       "      <td>1997-09-01</td>\n",
       "    </tr>\n",
       "    <tr>\n",
       "      <th>15</th>\n",
       "      <td>1997</td>\n",
       "      <td>10</td>\n",
       "      <td>38</td>\n",
       "      <td>1997-10-01</td>\n",
       "    </tr>\n",
       "    <tr>\n",
       "      <th>16</th>\n",
       "      <td>1997</td>\n",
       "      <td>11</td>\n",
       "      <td>34</td>\n",
       "      <td>1997-11-01</td>\n",
       "    </tr>\n",
       "    <tr>\n",
       "      <th>17</th>\n",
       "      <td>1997</td>\n",
       "      <td>12</td>\n",
       "      <td>48</td>\n",
       "      <td>1997-12-01</td>\n",
       "    </tr>\n",
       "    <tr>\n",
       "      <th>18</th>\n",
       "      <td>1998</td>\n",
       "      <td>1</td>\n",
       "      <td>55</td>\n",
       "      <td>1998-01-01</td>\n",
       "    </tr>\n",
       "    <tr>\n",
       "      <th>19</th>\n",
       "      <td>1998</td>\n",
       "      <td>2</td>\n",
       "      <td>54</td>\n",
       "      <td>1998-02-01</td>\n",
       "    </tr>\n",
       "    <tr>\n",
       "      <th>20</th>\n",
       "      <td>1998</td>\n",
       "      <td>3</td>\n",
       "      <td>73</td>\n",
       "      <td>1998-03-01</td>\n",
       "    </tr>\n",
       "    <tr>\n",
       "      <th>21</th>\n",
       "      <td>1998</td>\n",
       "      <td>4</td>\n",
       "      <td>74</td>\n",
       "      <td>1998-04-01</td>\n",
       "    </tr>\n",
       "    <tr>\n",
       "      <th>22</th>\n",
       "      <td>1998</td>\n",
       "      <td>5</td>\n",
       "      <td>14</td>\n",
       "      <td>1998-05-01</td>\n",
       "    </tr>\n",
       "  </tbody>\n",
       "</table>\n",
       "</div>"
      ],
      "text/plain": [
       "    Year  Month  order_count       Date\n",
       "0   1996      7           22 1996-07-01\n",
       "1   1996      8           25 1996-08-01\n",
       "2   1996      9           23 1996-09-01\n",
       "3   1996     10           26 1996-10-01\n",
       "4   1996     11           25 1996-11-01\n",
       "5   1996     12           31 1996-12-01\n",
       "6   1997      1           33 1997-01-01\n",
       "7   1997      2           29 1997-02-01\n",
       "8   1997      3           30 1997-03-01\n",
       "9   1997      4           31 1997-04-01\n",
       "10  1997      5           32 1997-05-01\n",
       "11  1997      6           30 1997-06-01\n",
       "12  1997      7           33 1997-07-01\n",
       "13  1997      8           33 1997-08-01\n",
       "14  1997      9           37 1997-09-01\n",
       "15  1997     10           38 1997-10-01\n",
       "16  1997     11           34 1997-11-01\n",
       "17  1997     12           48 1997-12-01\n",
       "18  1998      1           55 1998-01-01\n",
       "19  1998      2           54 1998-02-01\n",
       "20  1998      3           73 1998-03-01\n",
       "21  1998      4           74 1998-04-01\n",
       "22  1998      5           14 1998-05-01"
      ]
     },
     "execution_count": 9,
     "metadata": {},
     "output_type": "execute_result"
    }
   ],
   "source": [
    "#primero obtengo los meses y años necesarios para poder calcular los pedidos durante cada mes. \n",
    "df_Orders['Year'] = df_Orders['order_date'].dt.year\n",
    "df_Orders['Month'] = df_Orders['order_date'].dt.month\n",
    "grouped = df_Orders.groupby([\"Year\",\"Month\"]).size().reset_index(name='order_count').sort_values(by=['Year', 'Month'])\n",
    "grouped['Date'] = pd.to_datetime(grouped[['Year', 'Month']].assign(Day=1))\n",
    "grouped"
   ]
  },
  {
   "cell_type": "code",
   "execution_count": 10,
   "metadata": {},
   "outputs": [
    {
     "data": {
      "image/png": "[encoded data removed]",
      "text/plain": [
       "<Figure size 1000x300 with 1 Axes>"
      ]
     },
     "metadata": {},
     "output_type": "display_data"
    }
   ],
   "source": [
    "sv.linea_temporal(grouped, 'Date', 'order_count')"
   ]
  },
  {
   "cell_type": "markdown",
   "metadata": {},
   "source": [
    "----\n",
    "- #### Investiga cuáles son los países donde tenemos más ventas. No es necesario realizar una query para obtener el DataFrame. Estudia la distribución de pedidos por continente . Realiza la visualización que creas más conveniente."
   ]
  },
  {
   "cell_type": "code",
   "execution_count": 83,
   "metadata": {},
   "outputs": [
    {
     "data": {
      "text/plain": [
       "country\n",
       "Germany        122\n",
       "USA            122\n",
       "Brazil          83\n",
       "France          78\n",
       "UK              56\n",
       "Venezuela       46\n",
       "Austria         40\n",
       "Sweden          37\n",
       "Canada          30\n",
       "Mexico          28\n",
       "Italy           28\n",
       "Spain           24\n",
       "Finland         22\n",
       "Ireland         19\n",
       "Belgium         19\n",
       "Switzerland     18\n",
       "Denmark         18\n",
       "Argentina       16\n",
       "Portugal        13\n",
       "Poland           7\n",
       "Norway           6\n",
       "Name: count, dtype: int64"
      ]
     },
     "execution_count": 83,
     "metadata": {},
     "output_type": "execute_result"
    }
   ],
   "source": [
    "df_customers_orders['country'].value_counts()"
   ]
  },
  {
   "cell_type": "code",
   "execution_count": 84,
   "metadata": {},
   "outputs": [],
   "source": [
    "continentes = {'Europe': ['Austria','Germany','Ireland','Italy','Norway','Switzerland','UK','Belgium','Poland','Denmark','Portugal','Finland','Spain','France','Sweden'],'America': ['Argentina','Brazil','Canada','Mexico','USA','Venezuela'] }\n",
    "\n",
    "def get_continent(pais):\n",
    "  for continente, paises in continentes.items():\n",
    "     if pais in paises:\n",
    "       return continente"
   ]
  },
  {
   "cell_type": "code",
   "execution_count": 13,
   "metadata": {},
   "outputs": [
    {
     "data": {
      "text/html": [
       "<div>\n",
       "<style scoped>\n",
       "    .dataframe tbody tr th:only-of-type {\n",
       "        vertical-align: middle;\n",
       "    }\n",
       "\n",
       "    .dataframe tbody tr th {\n",
       "        vertical-align: top;\n",
       "    }\n",
       "\n",
       "    .dataframe thead th {\n",
       "        text-align: right;\n",
       "    }\n",
       "</style>\n",
       "<table border=\"1\" class=\"dataframe\">\n",
       "  <thead>\n",
       "    <tr style=\"text-align: right;\">\n",
       "      <th></th>\n",
       "      <th>customer_id</th>\n",
       "      <th>company_name</th>\n",
       "      <th>city</th>\n",
       "      <th>country</th>\n",
       "      <th>order_id</th>\n",
       "      <th>ship_via</th>\n",
       "      <th>order_date</th>\n",
       "      <th>required_date</th>\n",
       "      <th>shipped_date</th>\n",
       "      <th>continent</th>\n",
       "    </tr>\n",
       "  </thead>\n",
       "  <tbody>\n",
       "    <tr>\n",
       "      <th>389</th>\n",
       "      <td>LEHMS</td>\n",
       "      <td>Lehmanns Marktstand</td>\n",
       "      <td>Frankfurt a.M.</td>\n",
       "      <td>Germany</td>\n",
       "      <td>10522.0</td>\n",
       "      <td>1.0</td>\n",
       "      <td>1997-04-30</td>\n",
       "      <td>1997-05-28</td>\n",
       "      <td>1997-05-06</td>\n",
       "      <td>Europe</td>\n",
       "    </tr>\n",
       "    <tr>\n",
       "      <th>64</th>\n",
       "      <td>BLONP</td>\n",
       "      <td>Blondesddsl père et fils</td>\n",
       "      <td>Strasbourg</td>\n",
       "      <td>France</td>\n",
       "      <td>10679.0</td>\n",
       "      <td>3.0</td>\n",
       "      <td>1997-09-23</td>\n",
       "      <td>1997-10-21</td>\n",
       "      <td>1997-09-30</td>\n",
       "      <td>Europe</td>\n",
       "    </tr>\n",
       "  </tbody>\n",
       "</table>\n",
       "</div>"
      ],
      "text/plain": [
       "    customer_id              company_name            city  country  order_id  \\\n",
       "389       LEHMS       Lehmanns Marktstand  Frankfurt a.M.  Germany   10522.0   \n",
       "64        BLONP  Blondesddsl père et fils      Strasbourg   France   10679.0   \n",
       "\n",
       "     ship_via order_date required_date shipped_date continent  \n",
       "389       1.0 1997-04-30    1997-05-28   1997-05-06    Europe  \n",
       "64        3.0 1997-09-23    1997-10-21   1997-09-30    Europe  "
      ]
     },
     "execution_count": 13,
     "metadata": {},
     "output_type": "execute_result"
    }
   ],
   "source": [
    "df_customers_orders['continent'] = df_customers_orders['country'].apply(get_continent)\n",
    "df_customers_orders.sample(2)"
   ]
  },
  {
   "cell_type": "code",
   "execution_count": 20,
   "metadata": {},
   "outputs": [
    {
     "name": "stdout",
     "output_type": "stream",
     "text": [
      "El continente Europe tiene 507 con un porcentaje 60.9375\n",
      "El continente America tiene 325 con un porcentaje 39.0625\n"
     ]
    }
   ],
   "source": [
    "ventas_continent= df_customers_orders['continent'].value_counts()\n",
    "total_ventas = ventas_continent.sum()\n",
    "porcent_0 = (ventas_continent.values[0]/total_ventas)*100\n",
    "porcent_1 = (ventas_continent.values[1]/total_ventas)*100\n",
    "print(f'El continente {ventas_continent.index[0]} tiene {ventas_continent.values[0]} con un porcentaje {porcent_0}')\n",
    "print(f'El continente {ventas_continent.index[1]} tiene {ventas_continent.values[1]} con un porcentaje {porcent_1}')"
   ]
  },
  {
   "cell_type": "code",
   "execution_count": null,
   "metadata": {},
   "outputs": [
    {
     "data": {
      "image/png": "[encoded data removed]",
      "text/plain": [
       "<Figure size 1000x400 with 1 Axes>"
      ]
     },
     "metadata": {},
     "output_type": "display_data"
    }
   ],
   "source": [
    "sv.barras(ventas_continent)"
   ]
  },
  {
   "cell_type": "markdown",
   "metadata": {},
   "source": [
    "---\n",
    "- #### Sabemos que algunos pedidos han llegado con retraso, además hay pedidos que no ha sido registrada su llegada. Investiga si la compañía de transporte está relacionada con ello o no. Realiza un boxplot para ver la diferencia de rango intercuartílico."
   ]
  },
  {
   "cell_type": "code",
   "execution_count": 85,
   "metadata": {},
   "outputs": [],
   "source": [
    "df_Shippers = pd.read_csv('../data/shippers.csv')"
   ]
  },
  {
   "cell_type": "code",
   "execution_count": 90,
   "metadata": {},
   "outputs": [],
   "source": [
    "#calculo un columna para saber si el pedido ha sido retrasado o no se ha enviado\n",
    "df_customers_orders['delays'] = (df_customers_orders['shipped_date'] - df_customers_orders['required_date']).dt.days"
   ]
  },
  {
   "cell_type": "code",
   "execution_count": 91,
   "metadata": {},
   "outputs": [
    {
     "data": {
      "text/html": [
       "<div>\n",
       "<style scoped>\n",
       "    .dataframe tbody tr th:only-of-type {\n",
       "        vertical-align: middle;\n",
       "    }\n",
       "\n",
       "    .dataframe tbody tr th {\n",
       "        vertical-align: top;\n",
       "    }\n",
       "\n",
       "    .dataframe thead th {\n",
       "        text-align: right;\n",
       "    }\n",
       "</style>\n",
       "<table border=\"1\" class=\"dataframe\">\n",
       "  <thead>\n",
       "    <tr style=\"text-align: right;\">\n",
       "      <th></th>\n",
       "      <th>customer_id</th>\n",
       "      <th>company_name_x</th>\n",
       "      <th>city</th>\n",
       "      <th>country</th>\n",
       "      <th>order_id</th>\n",
       "      <th>ship_via</th>\n",
       "      <th>order_date</th>\n",
       "      <th>required_date</th>\n",
       "      <th>shipped_date</th>\n",
       "      <th>continent</th>\n",
       "      <th>days_to_ship</th>\n",
       "      <th>delays</th>\n",
       "      <th>shipper_id</th>\n",
       "      <th>shipper_company</th>\n",
       "    </tr>\n",
       "  </thead>\n",
       "  <tbody>\n",
       "    <tr>\n",
       "      <th>0</th>\n",
       "      <td>ALFKI</td>\n",
       "      <td>Alfreds Futterkiste</td>\n",
       "      <td>Berlin</td>\n",
       "      <td>Germany</td>\n",
       "      <td>10643.0</td>\n",
       "      <td>1.0</td>\n",
       "      <td>1997-08-25</td>\n",
       "      <td>1997-09-22</td>\n",
       "      <td>1997-09-02</td>\n",
       "      <td>Europe</td>\n",
       "      <td>8.0</td>\n",
       "      <td>-20.0</td>\n",
       "      <td>1</td>\n",
       "      <td>Speedy Express</td>\n",
       "    </tr>\n",
       "    <tr>\n",
       "      <th>1</th>\n",
       "      <td>ALFKI</td>\n",
       "      <td>Alfreds Futterkiste</td>\n",
       "      <td>Berlin</td>\n",
       "      <td>Germany</td>\n",
       "      <td>10692.0</td>\n",
       "      <td>2.0</td>\n",
       "      <td>1997-10-03</td>\n",
       "      <td>1997-10-31</td>\n",
       "      <td>1997-10-13</td>\n",
       "      <td>Europe</td>\n",
       "      <td>10.0</td>\n",
       "      <td>-18.0</td>\n",
       "      <td>2</td>\n",
       "      <td>United Package</td>\n",
       "    </tr>\n",
       "    <tr>\n",
       "      <th>2</th>\n",
       "      <td>ALFKI</td>\n",
       "      <td>Alfreds Futterkiste</td>\n",
       "      <td>Berlin</td>\n",
       "      <td>Germany</td>\n",
       "      <td>10702.0</td>\n",
       "      <td>1.0</td>\n",
       "      <td>1997-10-13</td>\n",
       "      <td>1997-11-24</td>\n",
       "      <td>1997-10-21</td>\n",
       "      <td>Europe</td>\n",
       "      <td>8.0</td>\n",
       "      <td>-34.0</td>\n",
       "      <td>1</td>\n",
       "      <td>Speedy Express</td>\n",
       "    </tr>\n",
       "    <tr>\n",
       "      <th>3</th>\n",
       "      <td>ALFKI</td>\n",
       "      <td>Alfreds Futterkiste</td>\n",
       "      <td>Berlin</td>\n",
       "      <td>Germany</td>\n",
       "      <td>10835.0</td>\n",
       "      <td>3.0</td>\n",
       "      <td>1998-01-15</td>\n",
       "      <td>1998-02-12</td>\n",
       "      <td>1998-01-21</td>\n",
       "      <td>Europe</td>\n",
       "      <td>6.0</td>\n",
       "      <td>-22.0</td>\n",
       "      <td>3</td>\n",
       "      <td>Federal Shipping</td>\n",
       "    </tr>\n",
       "    <tr>\n",
       "      <th>4</th>\n",
       "      <td>ALFKI</td>\n",
       "      <td>Alfreds Futterkiste</td>\n",
       "      <td>Berlin</td>\n",
       "      <td>Germany</td>\n",
       "      <td>10952.0</td>\n",
       "      <td>1.0</td>\n",
       "      <td>1998-03-16</td>\n",
       "      <td>1998-04-27</td>\n",
       "      <td>1998-03-24</td>\n",
       "      <td>Europe</td>\n",
       "      <td>8.0</td>\n",
       "      <td>-34.0</td>\n",
       "      <td>1</td>\n",
       "      <td>Speedy Express</td>\n",
       "    </tr>\n",
       "    <tr>\n",
       "      <th>...</th>\n",
       "      <td>...</td>\n",
       "      <td>...</td>\n",
       "      <td>...</td>\n",
       "      <td>...</td>\n",
       "      <td>...</td>\n",
       "      <td>...</td>\n",
       "      <td>...</td>\n",
       "      <td>...</td>\n",
       "      <td>...</td>\n",
       "      <td>...</td>\n",
       "      <td>...</td>\n",
       "      <td>...</td>\n",
       "      <td>...</td>\n",
       "      <td>...</td>\n",
       "    </tr>\n",
       "    <tr>\n",
       "      <th>825</th>\n",
       "      <td>WOLZA</td>\n",
       "      <td>Wolski  Zajazd</td>\n",
       "      <td>Warszawa</td>\n",
       "      <td>Poland</td>\n",
       "      <td>10792.0</td>\n",
       "      <td>3.0</td>\n",
       "      <td>1997-12-23</td>\n",
       "      <td>1998-01-20</td>\n",
       "      <td>1997-12-31</td>\n",
       "      <td>Europe</td>\n",
       "      <td>8.0</td>\n",
       "      <td>-20.0</td>\n",
       "      <td>3</td>\n",
       "      <td>Federal Shipping</td>\n",
       "    </tr>\n",
       "    <tr>\n",
       "      <th>826</th>\n",
       "      <td>WOLZA</td>\n",
       "      <td>Wolski  Zajazd</td>\n",
       "      <td>Warszawa</td>\n",
       "      <td>Poland</td>\n",
       "      <td>10870.0</td>\n",
       "      <td>3.0</td>\n",
       "      <td>1998-02-04</td>\n",
       "      <td>1998-03-04</td>\n",
       "      <td>1998-02-13</td>\n",
       "      <td>Europe</td>\n",
       "      <td>9.0</td>\n",
       "      <td>-19.0</td>\n",
       "      <td>3</td>\n",
       "      <td>Federal Shipping</td>\n",
       "    </tr>\n",
       "    <tr>\n",
       "      <th>827</th>\n",
       "      <td>WOLZA</td>\n",
       "      <td>Wolski  Zajazd</td>\n",
       "      <td>Warszawa</td>\n",
       "      <td>Poland</td>\n",
       "      <td>10906.0</td>\n",
       "      <td>3.0</td>\n",
       "      <td>1998-02-25</td>\n",
       "      <td>1998-03-11</td>\n",
       "      <td>1998-03-03</td>\n",
       "      <td>Europe</td>\n",
       "      <td>6.0</td>\n",
       "      <td>-8.0</td>\n",
       "      <td>3</td>\n",
       "      <td>Federal Shipping</td>\n",
       "    </tr>\n",
       "    <tr>\n",
       "      <th>828</th>\n",
       "      <td>WOLZA</td>\n",
       "      <td>Wolski  Zajazd</td>\n",
       "      <td>Warszawa</td>\n",
       "      <td>Poland</td>\n",
       "      <td>10998.0</td>\n",
       "      <td>2.0</td>\n",
       "      <td>1998-04-03</td>\n",
       "      <td>1998-04-17</td>\n",
       "      <td>1998-04-17</td>\n",
       "      <td>Europe</td>\n",
       "      <td>14.0</td>\n",
       "      <td>0.0</td>\n",
       "      <td>2</td>\n",
       "      <td>United Package</td>\n",
       "    </tr>\n",
       "    <tr>\n",
       "      <th>829</th>\n",
       "      <td>WOLZA</td>\n",
       "      <td>Wolski  Zajazd</td>\n",
       "      <td>Warszawa</td>\n",
       "      <td>Poland</td>\n",
       "      <td>11044.0</td>\n",
       "      <td>1.0</td>\n",
       "      <td>1998-04-23</td>\n",
       "      <td>1998-05-21</td>\n",
       "      <td>1998-05-01</td>\n",
       "      <td>Europe</td>\n",
       "      <td>8.0</td>\n",
       "      <td>-20.0</td>\n",
       "      <td>1</td>\n",
       "      <td>Speedy Express</td>\n",
       "    </tr>\n",
       "  </tbody>\n",
       "</table>\n",
       "<p>830 rows × 14 columns</p>\n",
       "</div>"
      ],
      "text/plain": [
       "    customer_id       company_name_x      city  country  order_id  ship_via  \\\n",
       "0         ALFKI  Alfreds Futterkiste    Berlin  Germany   10643.0       1.0   \n",
       "1         ALFKI  Alfreds Futterkiste    Berlin  Germany   10692.0       2.0   \n",
       "2         ALFKI  Alfreds Futterkiste    Berlin  Germany   10702.0       1.0   \n",
       "3         ALFKI  Alfreds Futterkiste    Berlin  Germany   10835.0       3.0   \n",
       "4         ALFKI  Alfreds Futterkiste    Berlin  Germany   10952.0       1.0   \n",
       "..          ...                  ...       ...      ...       ...       ...   \n",
       "825       WOLZA       Wolski  Zajazd  Warszawa   Poland   10792.0       3.0   \n",
       "826       WOLZA       Wolski  Zajazd  Warszawa   Poland   10870.0       3.0   \n",
       "827       WOLZA       Wolski  Zajazd  Warszawa   Poland   10906.0       3.0   \n",
       "828       WOLZA       Wolski  Zajazd  Warszawa   Poland   10998.0       2.0   \n",
       "829       WOLZA       Wolski  Zajazd  Warszawa   Poland   11044.0       1.0   \n",
       "\n",
       "    order_date required_date shipped_date continent  days_to_ship  delays  \\\n",
       "0   1997-08-25    1997-09-22   1997-09-02    Europe           8.0   -20.0   \n",
       "1   1997-10-03    1997-10-31   1997-10-13    Europe          10.0   -18.0   \n",
       "2   1997-10-13    1997-11-24   1997-10-21    Europe           8.0   -34.0   \n",
       "3   1998-01-15    1998-02-12   1998-01-21    Europe           6.0   -22.0   \n",
       "4   1998-03-16    1998-04-27   1998-03-24    Europe           8.0   -34.0   \n",
       "..         ...           ...          ...       ...           ...     ...   \n",
       "825 1997-12-23    1998-01-20   1997-12-31    Europe           8.0   -20.0   \n",
       "826 1998-02-04    1998-03-04   1998-02-13    Europe           9.0   -19.0   \n",
       "827 1998-02-25    1998-03-11   1998-03-03    Europe           6.0    -8.0   \n",
       "828 1998-04-03    1998-04-17   1998-04-17    Europe          14.0     0.0   \n",
       "829 1998-04-23    1998-05-21   1998-05-01    Europe           8.0   -20.0   \n",
       "\n",
       "     shipper_id   shipper_company  \n",
       "0             1    Speedy Express  \n",
       "1             2    United Package  \n",
       "2             1    Speedy Express  \n",
       "3             3  Federal Shipping  \n",
       "4             1    Speedy Express  \n",
       "..          ...               ...  \n",
       "825           3  Federal Shipping  \n",
       "826           3  Federal Shipping  \n",
       "827           3  Federal Shipping  \n",
       "828           2    United Package  \n",
       "829           1    Speedy Express  \n",
       "\n",
       "[830 rows x 14 columns]"
      ]
     },
     "execution_count": 91,
     "metadata": {},
     "output_type": "execute_result"
    }
   ],
   "source": [
    "df = df_customers_orders.merge(df_Shippers,\n",
    "                               how='inner',\n",
    "                               left_on='ship_via',\n",
    "                               right_on='shipper_id'\n",
    "                               )\n",
    "df.rename(columns={'company_name_y': 'shipper_company'}, inplace=True)\n",
    "df"
   ]
  },
  {
   "cell_type": "code",
   "execution_count": 99,
   "metadata": {},
   "outputs": [
    {
     "data": {
      "application/vnd.plotly.v1+json": {
       "config": {
        "plotlyServerURL": "https://plot.ly"
       },
       "data": [
        {
         "alignmentgroup": "True",
         "hovertemplate": "shipper_company=Speedy Express<br>delays=%{y}<extra></extra>",
         "legendgroup": "Speedy Express",
         "marker": {
          "color": "#636efa"
         },
         "name": "Speedy Express",
         "notched": false,
         "offsetgroup": "Speedy Express",
         "orientation": "v",
         "showlegend": true,
         "type": "box",
         "x0": " ",
         "xaxis": "x",
         "y": {
          "bdata": "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",
          "dtype": "f8"
         },
         "y0": " ",
         "yaxis": "y"
        },
        {
         "alignmentgroup": "True",
         "hovertemplate": "shipper_company=United Package<br>delays=%{y}<extra></extra>",
         "legendgroup": "United Package",
         "marker": {
          "color": "#EF553B"
         },
         "name": "United Package",
         "notched": false,
         "offsetgroup": "United Package",
         "orientation": "v",
         "showlegend": true,
         "type": "box",
         "x0": " ",
         "xaxis": "x",
         "y": {
          "bdata": "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",
          "dtype": "f8"
         },
         "y0": " ",
         "yaxis": "y"
        },
        {
         "alignmentgroup": "True",
         "hovertemplate": "shipper_company=Federal Shipping<br>delays=%{y}<extra></extra>",
         "legendgroup": "Federal Shipping",
         "marker": {
          "color": "#00cc96"
         },
         "name": "Federal Shipping",
         "notched": false,
         "offsetgroup": "Federal Shipping",
         "orientation": "v",
         "showlegend": true,
         "type": "box",
         "x0": " ",
         "xaxis": "x",
         "y": {
          "bdata": "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",
          "dtype": "f8"
         },
         "y0": " ",
         "yaxis": "y"
        }
       ],
       "layout": {
        "boxmode": "group",
        "legend": {
         "title": {
          "text": "shipper_company"
         },
         "tracegroupgap": 0
        },
        "margin": {
         "t": 60
        },
        "template": {
         "data": {
          "bar": [
           {
            "error_x": {
             "color": "#2a3f5f"
            },
            "error_y": {
             "color": "#2a3f5f"
            },
            "marker": {
             "line": {
              "color": "#E5ECF6",
              "width": 0.5
             },
             "pattern": {
              "fillmode": "overlay",
              "size": 10,
              "solidity": 0.2
             }
            },
            "type": "bar"
           }
          ],
          "barpolar": [
           {
            "marker": {
             "line": {
              "color": "#E5ECF6",
              "width": 0.5
             },
             "pattern": {
              "fillmode": "overlay",
              "size": 10,
              "solidity": 0.2
             }
            },
            "type": "barpolar"
           }
          ],
          "carpet": [
           {
            "aaxis": {
             "endlinecolor": "#2a3f5f",
             "gridcolor": "white",
             "linecolor": "white",
             "minorgridcolor": "white",
             "startlinecolor": "#2a3f5f"
            },
            "baxis": {
             "endlinecolor": "#2a3f5f",
             "gridcolor": "white",
             "linecolor": "white",
             "minorgridcolor": "white",
             "startlinecolor": "#2a3f5f"
            },
            "type": "carpet"
           }
          ],
          "choropleth": [
           {
            "colorbar": {
             "outlinewidth": 0,
             "ticks": ""
            },
            "type": "choropleth"
           }
          ],
          "contour": [
           {
            "colorbar": {
             "outlinewidth": 0,
             "ticks": ""
            },
            "colorscale": [
             [
              0,
              "#0d0887"
             ],
             [
              0.1111111111111111,
              "#46039f"
             ],
             [
              0.2222222222222222,
              "#7201a8"
             ],
             [
              0.3333333333333333,
              "#9c179e"
             ],
             [
              0.4444444444444444,
              "#bd3786"
             ],
             [
              0.5555555555555556,
              "#d8576b"
             ],
             [
              0.6666666666666666,
              "#ed7953"
             ],
             [
              0.7777777777777778,
              "#fb9f3a"
             ],
             [
              0.8888888888888888,
              "#fdca26"
             ],
             [
              1,
              "#f0f921"
             ]
            ],
            "type": "contour"
           }
          ],
          "contourcarpet": [
           {
            "colorbar": {
             "outlinewidth": 0,
             "ticks": ""
            },
            "type": "contourcarpet"
           }
          ],
          "heatmap": [
           {
            "colorbar": {
             "outlinewidth": 0,
             "ticks": ""
            },
            "colorscale": [
             [
              0,
              "#0d0887"
             ],
             [
              0.1111111111111111,
              "#46039f"
             ],
             [
              0.2222222222222222,
              "#7201a8"
             ],
             [
              0.3333333333333333,
              "#9c179e"
             ],
             [
              0.4444444444444444,
              "#bd3786"
             ],
             [
              0.5555555555555556,
              "#d8576b"
             ],
             [
              0.6666666666666666,
              "#ed7953"
             ],
             [
              0.7777777777777778,
              "#fb9f3a"
             ],
             [
              0.8888888888888888,
              "#fdca26"
             ],
             [
              1,
              "#f0f921"
             ]
            ],
            "type": "heatmap"
           }
          ],
          "histogram": [
           {
            "marker": {
             "pattern": {
              "fillmode": "overlay",
              "size": 10,
              "solidity": 0.2
             }
            },
            "type": "histogram"
           }
          ],
          "histogram2d": [
           {
            "colorbar": {
             "outlinewidth": 0,
             "ticks": ""
            },
            "colorscale": [
             [
              0,
              "#0d0887"
             ],
             [
              0.1111111111111111,
              "#46039f"
             ],
             [
              0.2222222222222222,
              "#7201a8"
             ],
             [
              0.3333333333333333,
              "#9c179e"
             ],
             [
              0.4444444444444444,
              "#bd3786"
             ],
             [
              0.5555555555555556,
              "#d8576b"
             ],
             [
              0.6666666666666666,
              "#ed7953"
             ],
             [
              0.7777777777777778,
              "#fb9f3a"
             ],
             [
              0.8888888888888888,
              "#fdca26"
             ],
             [
              1,
              "#f0f921"
             ]
            ],
            "type": "histogram2d"
           }
          ],
          "histogram2dcontour": [
           {
            "colorbar": {
             "outlinewidth": 0,
             "ticks": ""
            },
            "colorscale": [
             [
              0,
              "#0d0887"
             ],
             [
              0.1111111111111111,
              "#46039f"
             ],
             [
              0.2222222222222222,
              "#7201a8"
             ],
             [
              0.3333333333333333,
              "#9c179e"
             ],
             [
              0.4444444444444444,
              "#bd3786"
             ],
             [
              0.5555555555555556,
              "#d8576b"
             ],
             [
              0.6666666666666666,
              "#ed7953"
             ],
             [
              0.7777777777777778,
              "#fb9f3a"
             ],
             [
              0.8888888888888888,
              "#fdca26"
             ],
             [
              1,
              "#f0f921"
             ]
            ],
            "type": "histogram2dcontour"
           }
          ],
          "mesh3d": [
           {
            "colorbar": {
             "outlinewidth": 0,
             "ticks": ""
            },
            "type": "mesh3d"
           }
          ],
          "parcoords": [
           {
            "line": {
             "colorbar": {
              "outlinewidth": 0,
              "ticks": ""
             }
            },
            "type": "parcoords"
           }
          ],
          "pie": [
           {
            "automargin": true,
            "type": "pie"
           }
          ],
          "scatter": [
           {
            "fillpattern": {
             "fillmode": "overlay",
             "size": 10,
             "solidity": 0.2
            },
            "type": "scatter"
           }
          ],
          "scatter3d": [
           {
            "line": {
             "colorbar": {
              "outlinewidth": 0,
              "ticks": ""
             }
            },
            "marker": {
             "colorbar": {
              "outlinewidth": 0,
              "ticks": ""
             }
            },
            "type": "scatter3d"
           }
          ],
          "scattercarpet": [
           {
            "marker": {
             "colorbar": {
              "outlinewidth": 0,
              "ticks": ""
             }
            },
            "type": "scattercarpet"
           }
          ],
          "scattergeo": [
           {
            "marker": {
             "colorbar": {
              "outlinewidth": 0,
              "ticks": ""
             }
            },
            "type": "scattergeo"
           }
          ],
          "scattergl": [
           {
            "marker": {
             "colorbar": {
              "outlinewidth": 0,
              "ticks": ""
             }
            },
            "type": "scattergl"
           }
          ],
          "scattermap": [
           {
            "marker": {
             "colorbar": {
              "outlinewidth": 0,
              "ticks": ""
             }
            },
            "type": "scattermap"
           }
          ],
          "scattermapbox": [
           {
            "marker": {
             "colorbar": {
              "outlinewidth": 0,
              "ticks": ""
             }
            },
            "type": "scattermapbox"
           }
          ],
          "scatterpolar": [
           {
            "marker": {
             "colorbar": {
              "outlinewidth": 0,
              "ticks": ""
             }
            },
            "type": "scatterpolar"
           }
          ],
          "scatterpolargl": [
           {
            "marker": {
             "colorbar": {
              "outlinewidth": 0,
              "ticks": ""
             }
            },
            "type": "scatterpolargl"
           }
          ],
          "scatterternary": [
           {
            "marker": {
             "colorbar": {
              "outlinewidth": 0,
              "ticks": ""
             }
            },
            "type": "scatterternary"
           }
          ],
          "surface": [
           {
            "colorbar": {
             "outlinewidth": 0,
             "ticks": ""
            },
            "colorscale": [
             [
              0,
              "#0d0887"
             ],
             [
              0.1111111111111111,
              "#46039f"
             ],
             [
              0.2222222222222222,
              "#7201a8"
             ],
             [
              0.3333333333333333,
              "#9c179e"
             ],
             [
              0.4444444444444444,
              "#bd3786"
             ],
             [
              0.5555555555555556,
              "#d8576b"
             ],
             [
              0.6666666666666666,
              "#ed7953"
             ],
             [
              0.7777777777777778,
              "#fb9f3a"
             ],
             [
              0.8888888888888888,
              "#fdca26"
             ],
             [
              1,
              "#f0f921"
             ]
            ],
            "type": "surface"
           }
          ],
          "table": [
           {
            "cells": {
             "fill": {
              "color": "#EBF0F8"
             },
             "line": {
              "color": "white"
             }
            },
            "header": {
             "fill": {
              "color": "#C8D4E3"
             },
             "line": {
              "color": "white"
             }
            },
            "type": "table"
           }
          ]
         },
         "layout": {
          "annotationdefaults": {
           "arrowcolor": "#2a3f5f",
           "arrowhead": 0,
           "arrowwidth": 1
          },
          "autotypenumbers": "strict",
          "coloraxis": {
           "colorbar": {
            "outlinewidth": 0,
            "ticks": ""
           }
          },
          "colorscale": {
           "diverging": [
            [
             0,
             "#8e0152"
            ],
            [
             0.1,
             "#c51b7d"
            ],
            [
             0.2,
             "#de77ae"
            ],
            [
             0.3,
             "#f1b6da"
            ],
            [
             0.4,
             "#fde0ef"
            ],
            [
             0.5,
             "#f7f7f7"
            ],
            [
             0.6,
             "#e6f5d0"
            ],
            [
             0.7,
             "#b8e186"
            ],
            [
             0.8,
             "#7fbc41"
            ],
            [
             0.9,
             "#4d9221"
            ],
            [
             1,
             "#276419"
            ]
           ],
           "sequential": [
            [
             0,
             "#0d0887"
            ],
            [
             0.1111111111111111,
             "#46039f"
            ],
            [
             0.2222222222222222,
             "#7201a8"
            ],
            [
             0.3333333333333333,
             "#9c179e"
            ],
            [
             0.4444444444444444,
             "#bd3786"
            ],
            [
             0.5555555555555556,
             "#d8576b"
            ],
            [
             0.6666666666666666,
             "#ed7953"
            ],
            [
             0.7777777777777778,
             "#fb9f3a"
            ],
            [
             0.8888888888888888,
             "#fdca26"
            ],
            [
             1,
             "#f0f921"
            ]
           ],
           "sequentialminus": [
            [
             0,
             "#0d0887"
            ],
            [
             0.1111111111111111,
             "#46039f"
            ],
            [
             0.2222222222222222,
             "#7201a8"
            ],
            [
             0.3333333333333333,
             "#9c179e"
            ],
            [
             0.4444444444444444,
             "#bd3786"
            ],
            [
             0.5555555555555556,
             "#d8576b"
            ],
            [
             0.6666666666666666,
             "#ed7953"
            ],
            [
             0.7777777777777778,
             "#fb9f3a"
            ],
            [
             0.8888888888888888,
             "#fdca26"
            ],
            [
             1,
             "#f0f921"
            ]
           ]
          },
          "colorway": [
           "#636efa",
           "#EF553B",
           "#00cc96",
           "#ab63fa",
           "#FFA15A",
           "#19d3f3",
           "#FF6692",
           "#B6E880",
           "#FF97FF",
           "#FECB52"
          ],
          "font": {
           "color": "#2a3f5f"
          },
          "geo": {
           "bgcolor": "white",
           "lakecolor": "white",
           "landcolor": "#E5ECF6",
           "showlakes": true,
           "showland": true,
           "subunitcolor": "white"
          },
          "hoverlabel": {
           "align": "left"
          },
          "hovermode": "closest",
          "mapbox": {
           "style": "light"
          },
          "paper_bgcolor": "white",
          "plot_bgcolor": "#E5ECF6",
          "polar": {
           "angularaxis": {
            "gridcolor": "white",
            "linecolor": "white",
            "ticks": ""
           },
           "bgcolor": "#E5ECF6",
           "radialaxis": {
            "gridcolor": "white",
            "linecolor": "white",
            "ticks": ""
           }
          },
          "scene": {
           "xaxis": {
            "backgroundcolor": "#E5ECF6",
            "gridcolor": "white",
            "gridwidth": 2,
            "linecolor": "white",
            "showbackground": true,
            "ticks": "",
            "zerolinecolor": "white"
           },
           "yaxis": {
            "backgroundcolor": "#E5ECF6",
            "gridcolor": "white",
            "gridwidth": 2,
            "linecolor": "white",
            "showbackground": true,
            "ticks": "",
            "zerolinecolor": "white"
           },
           "zaxis": {
            "backgroundcolor": "#E5ECF6",
            "gridcolor": "white",
            "gridwidth": 2,
            "linecolor": "white",
            "showbackground": true,
            "ticks": "",
            "zerolinecolor": "white"
           }
          },
          "shapedefaults": {
           "line": {
            "color": "#2a3f5f"
           }
          },
          "ternary": {
           "aaxis": {
            "gridcolor": "white",
            "linecolor": "white",
            "ticks": ""
           },
           "baxis": {
            "gridcolor": "white",
            "linecolor": "white",
            "ticks": ""
           },
           "bgcolor": "#E5ECF6",
           "caxis": {
            "gridcolor": "white",
            "linecolor": "white",
            "ticks": ""
           }
          },
          "title": {
           "x": 0.05
          },
          "xaxis": {
           "automargin": true,
           "gridcolor": "white",
           "linecolor": "white",
           "ticks": "",
           "title": {
            "standoff": 15
           },
           "zerolinecolor": "white",
           "zerolinewidth": 2
          },
          "yaxis": {
           "automargin": true,
           "gridcolor": "white",
           "linecolor": "white",
           "ticks": "",
           "title": {
            "standoff": 15
           },
           "zerolinecolor": "white",
           "zerolinewidth": 2
          }
         }
        },
        "xaxis": {
         "anchor": "y",
         "domain": [
          0,
          1
         ]
        },
        "yaxis": {
         "anchor": "x",
         "domain": [
          0,
          1
         ],
         "title": {
          "text": "delays"
         }
        }
       }
      }
     },
     "metadata": {},
     "output_type": "display_data"
    }
   ],
   "source": [
    "fig = px.box(df, y = 'delays', color = 'shipper_company')\n",
    "fig.show()"
   ]
  },
  {
   "cell_type": "code",
   "execution_count": 108,
   "metadata": {},
   "outputs": [
    {
     "name": "stdout",
     "output_type": "stream",
     "text": [
      "La compañía Speedy Express no ha registrado un 1.61% de los viajes.\n",
      "La compañía United Package no ha registrado un 3.37% de los viajes.\n",
      "La compañía Federal Shipping no ha registrado un 2.35% de los viajes.\n"
     ]
    }
   ],
   "source": [
    "company_list = df['shipper_company'].unique().tolist()\n",
    "for company in company_list:\n",
    "    df_company = df[df['shipper_company'] == company]\n",
    "    null_percent = df_company['delays'].isnull().sum()/ df_company.shape[0] *100\n",
    "    print(f\"La compañía {company} no ha registrado un {round(null_percent,2)}% de los viajes.\")"
   ]
  },
  {
   "cell_type": "markdown",
   "metadata": {},
   "source": [
    "      En base a esto podemos observar que todas las compañias han tenido retrasos, United Pckage ha tenido un poco mas pero no significativamente"
   ]
  },
  {
   "cell_type": "markdown",
   "metadata": {},
   "source": [
    "----\n",
    "- #### Hay bastante diferencia entre el precio pagado en cada pedido. Averigüa la distribución media del precio del pedido por país de procedencia del cliente. Realiza la visualización que creas más conveniente para sacar conclusiones"
   ]
  },
  {
   "cell_type": "code",
   "execution_count": 121,
   "metadata": {},
   "outputs": [
    {
     "data": {
      "text/html": [
       "<div>\n",
       "<style scoped>\n",
       "    .dataframe tbody tr th:only-of-type {\n",
       "        vertical-align: middle;\n",
       "    }\n",
       "\n",
       "    .dataframe tbody tr th {\n",
       "        vertical-align: top;\n",
       "    }\n",
       "\n",
       "    .dataframe thead th {\n",
       "        text-align: right;\n",
       "    }\n",
       "</style>\n",
       "<table border=\"1\" class=\"dataframe\">\n",
       "  <thead>\n",
       "    <tr style=\"text-align: right;\">\n",
       "      <th></th>\n",
       "      <th>order_id</th>\n",
       "      <th>total_order</th>\n",
       "    </tr>\n",
       "  </thead>\n",
       "  <tbody>\n",
       "    <tr>\n",
       "      <th>0</th>\n",
       "      <td>11038</td>\n",
       "      <td>732.6000</td>\n",
       "    </tr>\n",
       "    <tr>\n",
       "      <th>1</th>\n",
       "      <td>10782</td>\n",
       "      <td>12.5000</td>\n",
       "    </tr>\n",
       "    <tr>\n",
       "      <th>2</th>\n",
       "      <td>10725</td>\n",
       "      <td>287.8000</td>\n",
       "    </tr>\n",
       "    <tr>\n",
       "      <th>3</th>\n",
       "      <td>10423</td>\n",
       "      <td>1020.0000</td>\n",
       "    </tr>\n",
       "    <tr>\n",
       "      <th>4</th>\n",
       "      <td>10518</td>\n",
       "      <td>4150.0500</td>\n",
       "    </tr>\n",
       "    <tr>\n",
       "      <th>...</th>\n",
       "      <td>...</td>\n",
       "      <td>...</td>\n",
       "    </tr>\n",
       "    <tr>\n",
       "      <th>825</th>\n",
       "      <td>10707</td>\n",
       "      <td>1641.0000</td>\n",
       "    </tr>\n",
       "    <tr>\n",
       "      <th>826</th>\n",
       "      <td>10826</td>\n",
       "      <td>730.0000</td>\n",
       "    </tr>\n",
       "    <tr>\n",
       "      <th>827</th>\n",
       "      <td>10371</td>\n",
       "      <td>72.9600</td>\n",
       "    </tr>\n",
       "    <tr>\n",
       "      <th>828</th>\n",
       "      <td>10575</td>\n",
       "      <td>2147.4000</td>\n",
       "    </tr>\n",
       "    <tr>\n",
       "      <th>829</th>\n",
       "      <td>10809</td>\n",
       "      <td>140.0000</td>\n",
       "    </tr>\n",
       "  </tbody>\n",
       "</table>\n",
       "<p>830 rows × 2 columns</p>\n",
       "</div>"
      ],
      "text/plain": [
       "     order_id  total_order\n",
       "0       11038     732.6000\n",
       "1       10782      12.5000\n",
       "2       10725     287.8000\n",
       "3       10423    1020.0000\n",
       "4       10518    4150.0500\n",
       "..        ...          ...\n",
       "825     10707    1641.0000\n",
       "826     10826     730.0000\n",
       "827     10371      72.9600\n",
       "828     10575    2147.4000\n",
       "829     10809     140.0000\n",
       "\n",
       "[830 rows x 2 columns]"
      ]
     },
     "execution_count": 121,
     "metadata": {},
     "output_type": "execute_result"
    }
   ],
   "source": [
    "query = ''' SELECT order_id,\n",
    "            SUM(unit_price*quantity-discount*unit_price*quantity) AS \"total_order\"\n",
    "            FROM order_details\n",
    "            GROUP BY order_id'''\n",
    "df_sum_orders = sa.pasos_querys(query)\n",
    "df_sum_orders"
   ]
  },
  {
   "cell_type": "code",
   "execution_count": 125,
   "metadata": {},
   "outputs": [
    {
     "data": {
      "text/html": [
       "<div>\n",
       "<style scoped>\n",
       "    .dataframe tbody tr th:only-of-type {\n",
       "        vertical-align: middle;\n",
       "    }\n",
       "\n",
       "    .dataframe tbody tr th {\n",
       "        vertical-align: top;\n",
       "    }\n",
       "\n",
       "    .dataframe thead th {\n",
       "        text-align: right;\n",
       "    }\n",
       "</style>\n",
       "<table border=\"1\" class=\"dataframe\">\n",
       "  <thead>\n",
       "    <tr style=\"text-align: right;\">\n",
       "      <th></th>\n",
       "      <th>country</th>\n",
       "      <th>total_order</th>\n",
       "    </tr>\n",
       "  </thead>\n",
       "  <tbody>\n",
       "    <tr>\n",
       "      <th>1</th>\n",
       "      <td>Austria</td>\n",
       "      <td>3200.0960</td>\n",
       "    </tr>\n",
       "    <tr>\n",
       "      <th>9</th>\n",
       "      <td>Ireland</td>\n",
       "      <td>2630.5213</td>\n",
       "    </tr>\n",
       "    <tr>\n",
       "      <th>19</th>\n",
       "      <td>USA</td>\n",
       "      <td>2012.9886</td>\n",
       "    </tr>\n",
       "    <tr>\n",
       "      <th>8</th>\n",
       "      <td>Germany</td>\n",
       "      <td>1887.5790</td>\n",
       "    </tr>\n",
       "    <tr>\n",
       "      <th>5</th>\n",
       "      <td>Denmark</td>\n",
       "      <td>1814.5012</td>\n",
       "    </tr>\n",
       "    <tr>\n",
       "      <th>2</th>\n",
       "      <td>Belgium</td>\n",
       "      <td>1780.2555</td>\n",
       "    </tr>\n",
       "    <tr>\n",
       "      <th>17</th>\n",
       "      <td>Switzerland</td>\n",
       "      <td>1760.7033</td>\n",
       "    </tr>\n",
       "    <tr>\n",
       "      <th>4</th>\n",
       "      <td>Canada</td>\n",
       "      <td>1673.2097</td>\n",
       "    </tr>\n",
       "    <tr>\n",
       "      <th>16</th>\n",
       "      <td>Sweden</td>\n",
       "      <td>1472.8416</td>\n",
       "    </tr>\n",
       "    <tr>\n",
       "      <th>3</th>\n",
       "      <td>Brazil</td>\n",
       "      <td>1288.2624</td>\n",
       "    </tr>\n",
       "    <tr>\n",
       "      <th>20</th>\n",
       "      <td>Venezuela</td>\n",
       "      <td>1235.0137</td>\n",
       "    </tr>\n",
       "    <tr>\n",
       "      <th>7</th>\n",
       "      <td>France</td>\n",
       "      <td>1056.6016</td>\n",
       "    </tr>\n",
       "    <tr>\n",
       "      <th>18</th>\n",
       "      <td>UK</td>\n",
       "      <td>1053.0591</td>\n",
       "    </tr>\n",
       "    <tr>\n",
       "      <th>12</th>\n",
       "      <td>Norway</td>\n",
       "      <td>955.8583</td>\n",
       "    </tr>\n",
       "    <tr>\n",
       "      <th>14</th>\n",
       "      <td>Portugal</td>\n",
       "      <td>882.4894</td>\n",
       "    </tr>\n",
       "    <tr>\n",
       "      <th>6</th>\n",
       "      <td>Finland</td>\n",
       "      <td>855.0024</td>\n",
       "    </tr>\n",
       "    <tr>\n",
       "      <th>11</th>\n",
       "      <td>Mexico</td>\n",
       "      <td>842.2171</td>\n",
       "    </tr>\n",
       "    <tr>\n",
       "      <th>15</th>\n",
       "      <td>Spain</td>\n",
       "      <td>781.8783</td>\n",
       "    </tr>\n",
       "    <tr>\n",
       "      <th>10</th>\n",
       "      <td>Italy</td>\n",
       "      <td>563.2198</td>\n",
       "    </tr>\n",
       "    <tr>\n",
       "      <th>0</th>\n",
       "      <td>Argentina</td>\n",
       "      <td>507.4437</td>\n",
       "    </tr>\n",
       "    <tr>\n",
       "      <th>13</th>\n",
       "      <td>Poland</td>\n",
       "      <td>504.5643</td>\n",
       "    </tr>\n",
       "  </tbody>\n",
       "</table>\n",
       "</div>"
      ],
      "text/plain": [
       "        country  total_order\n",
       "1       Austria    3200.0960\n",
       "9       Ireland    2630.5213\n",
       "19          USA    2012.9886\n",
       "8       Germany    1887.5790\n",
       "5       Denmark    1814.5012\n",
       "2       Belgium    1780.2555\n",
       "17  Switzerland    1760.7033\n",
       "4        Canada    1673.2097\n",
       "16       Sweden    1472.8416\n",
       "3        Brazil    1288.2624\n",
       "20    Venezuela    1235.0137\n",
       "7        France    1056.6016\n",
       "18           UK    1053.0591\n",
       "12       Norway     955.8583\n",
       "14     Portugal     882.4894\n",
       "6       Finland     855.0024\n",
       "11       Mexico     842.2171\n",
       "15        Spain     781.8783\n",
       "10        Italy     563.2198\n",
       "0     Argentina     507.4437\n",
       "13       Poland     504.5643"
      ]
     },
     "execution_count": 125,
     "metadata": {},
     "output_type": "execute_result"
    }
   ],
   "source": [
    "total_orders = df_sum_orders.merge(df_customers_orders, \n",
    "                                   how='inner',\n",
    "                                   left_on='order_id',\n",
    "                                   right_on='order_id'\n",
    "                                   )\n",
    "total_country = total_orders.groupby('country')['total_order'].mean().reset_index().sort_values(by='total_order', ascending=False)\n",
    "total_country"
   ]
  },
  {
   "cell_type": "code",
   "execution_count": 126,
   "metadata": {},
   "outputs": [
    {
     "data": {
      "image/png": "[encoded data removed]",
      "text/plain": [
       "<Figure size 1200x600 with 1 Axes>"
      ]
     },
     "metadata": {},
     "output_type": "display_data"
    }
   ],
   "source": [
    "sv.barplot(total_country,'total_order', 'country',\"viridis\")"
   ]
  },
  {
   "cell_type": "markdown",
   "metadata": {},
   "source": [
    "        Como se puede ver en la gráfica el precio medio en Francia es mucho más elevado que el resto"
   ]
  },
  {
   "cell_type": "markdown",
   "metadata": {},
   "source": [
    "---\n",
    "- #### Investiga si existen clientes que no hayan pedido nunca. ¿Qué porcentaje de clientes no tienen pedidos registrados?"
   ]
  },
  {
   "cell_type": "code",
   "execution_count": 76,
   "metadata": {},
   "outputs": [
    {
     "data": {
      "text/html": [
       "<div>\n",
       "<style scoped>\n",
       "    .dataframe tbody tr th:only-of-type {\n",
       "        vertical-align: middle;\n",
       "    }\n",
       "\n",
       "    .dataframe tbody tr th {\n",
       "        vertical-align: top;\n",
       "    }\n",
       "\n",
       "    .dataframe thead th {\n",
       "        text-align: right;\n",
       "    }\n",
       "</style>\n",
       "<table border=\"1\" class=\"dataframe\">\n",
       "  <thead>\n",
       "    <tr style=\"text-align: right;\">\n",
       "      <th></th>\n",
       "      <th>customer_id</th>\n",
       "      <th>company_name_x</th>\n",
       "      <th>city</th>\n",
       "      <th>country</th>\n",
       "      <th>order_id</th>\n",
       "      <th>ship_via</th>\n",
       "      <th>order_date</th>\n",
       "      <th>required_date</th>\n",
       "      <th>shipped_date</th>\n",
       "      <th>continent</th>\n",
       "      <th>days_to_ship</th>\n",
       "      <th>delays</th>\n",
       "      <th>shipper_id</th>\n",
       "      <th>shipper_company</th>\n",
       "    </tr>\n",
       "  </thead>\n",
       "  <tbody>\n",
       "    <tr>\n",
       "      <th>188</th>\n",
       "      <td>FISSA</td>\n",
       "      <td>FISSA Fabrica Inter. Salchichas S.A.</td>\n",
       "      <td>Madrid</td>\n",
       "      <td>Spain</td>\n",
       "      <td>NaN</td>\n",
       "      <td>NaN</td>\n",
       "      <td>NaT</td>\n",
       "      <td>NaT</td>\n",
       "      <td>NaT</td>\n",
       "      <td>Europe</td>\n",
       "      <td>NaN</td>\n",
       "      <td>True</td>\n",
       "      <td>NaN</td>\n",
       "      <td>NaN</td>\n",
       "    </tr>\n",
       "    <tr>\n",
       "      <th>501</th>\n",
       "      <td>PARIS</td>\n",
       "      <td>Paris spécialités</td>\n",
       "      <td>Paris</td>\n",
       "      <td>France</td>\n",
       "      <td>NaN</td>\n",
       "      <td>NaN</td>\n",
       "      <td>NaT</td>\n",
       "      <td>NaT</td>\n",
       "      <td>NaT</td>\n",
       "      <td>Europe</td>\n",
       "      <td>NaN</td>\n",
       "      <td>True</td>\n",
       "      <td>NaN</td>\n",
       "      <td>NaN</td>\n",
       "    </tr>\n",
       "  </tbody>\n",
       "</table>\n",
       "</div>"
      ],
      "text/plain": [
       "    customer_id                        company_name_x    city country  \\\n",
       "188       FISSA  FISSA Fabrica Inter. Salchichas S.A.  Madrid   Spain   \n",
       "501       PARIS                     Paris spécialités   Paris  France   \n",
       "\n",
       "     order_id  ship_via order_date required_date shipped_date continent  \\\n",
       "188       NaN       NaN        NaT           NaT          NaT    Europe   \n",
       "501       NaN       NaN        NaT           NaT          NaT    Europe   \n",
       "\n",
       "     days_to_ship  delays  shipper_id shipper_company  \n",
       "188           NaN    True         NaN             NaN  \n",
       "501           NaN    True         NaN             NaN  "
      ]
     },
     "execution_count": 76,
     "metadata": {},
     "output_type": "execute_result"
    }
   ],
   "source": [
    "df_nulos = df[df[\"order_id\"].isnull()]\n",
    "df_nulos"
   ]
  },
  {
   "cell_type": "code",
   "execution_count": null,
   "metadata": {},
   "outputs": [
    {
     "name": "stdout",
     "output_type": "stream",
     "text": [
      "El porcentaje de clientes que no han pedido es del 0.24 %\n"
     ]
    }
   ],
   "source": [
    "order_nulo= round(df[\"order_id\"].isnull().sum()/df[\"order_id\"].shape[0]*100,2)\n",
    "print(f'El porcentaje de clientes que no han pedido es del {order_nulo} %')"
   ]
  },
  {
   "cell_type": "markdown",
   "metadata": {},
   "source": [
    "----\n",
    "- #### Estudia los productos más demandados e investiga cuáles corre prisa hacer reestock (Los que quedan 20 o menos y no hay unidades pedidas). Realiza la visualización que creas más conveniente para sacar conclusiones"
   ]
  },
  {
   "cell_type": "code",
   "execution_count": 145,
   "metadata": {},
   "outputs": [
    {
     "data": {
      "text/plain": [
       "Index(['product_id', 'product_name', 'unit_price_product', 'units_in_stock',\n",
       "       'units_on_order', 'discontinued', 'supplier_id', 'company_supplier',\n",
       "       'city', 'country', 'order_id', 'unit_price_order', 'quantity',\n",
       "       'discount', 'total_order'],\n",
       "      dtype='object')"
      ]
     },
     "execution_count": 145,
     "metadata": {},
     "output_type": "execute_result"
    }
   ],
   "source": [
    "df_ProductsDT_Suppliers.columns"
   ]
  },
  {
   "cell_type": "code",
   "execution_count": 142,
   "metadata": {},
   "outputs": [
    {
     "data": {
      "text/html": [
       "<div>\n",
       "<style scoped>\n",
       "    .dataframe tbody tr th:only-of-type {\n",
       "        vertical-align: middle;\n",
       "    }\n",
       "\n",
       "    .dataframe tbody tr th {\n",
       "        vertical-align: top;\n",
       "    }\n",
       "\n",
       "    .dataframe thead th {\n",
       "        text-align: right;\n",
       "    }\n",
       "</style>\n",
       "<table border=\"1\" class=\"dataframe\">\n",
       "  <thead>\n",
       "    <tr style=\"text-align: right;\">\n",
       "      <th></th>\n",
       "      <th>product_name</th>\n",
       "      <th>order_id</th>\n",
       "    </tr>\n",
       "  </thead>\n",
       "  <tbody>\n",
       "    <tr>\n",
       "      <th>51</th>\n",
       "      <td>Raclette Courdavault</td>\n",
       "      <td>54</td>\n",
       "    </tr>\n",
       "    <tr>\n",
       "      <th>18</th>\n",
       "      <td>Gorgonzola Telino</td>\n",
       "      <td>51</td>\n",
       "    </tr>\n",
       "    <tr>\n",
       "      <th>21</th>\n",
       "      <td>Guaraná Fantástica</td>\n",
       "      <td>51</td>\n",
       "    </tr>\n",
       "    <tr>\n",
       "      <th>3</th>\n",
       "      <td>Camembert Pierrot</td>\n",
       "      <td>51</td>\n",
       "    </tr>\n",
       "    <tr>\n",
       "      <th>17</th>\n",
       "      <td>Gnocchi di nonna Alice</td>\n",
       "      <td>50</td>\n",
       "    </tr>\n",
       "    <tr>\n",
       "      <th>...</th>\n",
       "      <td>...</td>\n",
       "      <td>...</td>\n",
       "    </tr>\n",
       "    <tr>\n",
       "      <th>35</th>\n",
       "      <td>Louisiana Hot Spiced Okra</td>\n",
       "      <td>8</td>\n",
       "    </tr>\n",
       "    <tr>\n",
       "      <th>20</th>\n",
       "      <td>Gravad lax</td>\n",
       "      <td>6</td>\n",
       "    </tr>\n",
       "    <tr>\n",
       "      <th>16</th>\n",
       "      <td>Genen Shouyu</td>\n",
       "      <td>6</td>\n",
       "    </tr>\n",
       "    <tr>\n",
       "      <th>10</th>\n",
       "      <td>Chocolade</td>\n",
       "      <td>6</td>\n",
       "    </tr>\n",
       "    <tr>\n",
       "      <th>39</th>\n",
       "      <td>Mishi Kobe Niku</td>\n",
       "      <td>5</td>\n",
       "    </tr>\n",
       "  </tbody>\n",
       "</table>\n",
       "<p>77 rows × 2 columns</p>\n",
       "</div>"
      ],
      "text/plain": [
       "                 product_name  order_id\n",
       "51       Raclette Courdavault        54\n",
       "18          Gorgonzola Telino        51\n",
       "21         Guaraná Fantástica        51\n",
       "3           Camembert Pierrot        51\n",
       "17     Gnocchi di nonna Alice        50\n",
       "..                        ...       ...\n",
       "35  Louisiana Hot Spiced Okra         8\n",
       "20                 Gravad lax         6\n",
       "16               Genen Shouyu         6\n",
       "10                  Chocolade         6\n",
       "39            Mishi Kobe Niku         5\n",
       "\n",
       "[77 rows x 2 columns]"
      ]
     },
     "execution_count": 142,
     "metadata": {},
     "output_type": "execute_result"
    }
   ],
   "source": [
    "df_orders_counts=df_ProductsDT_Suppliers.groupby(\"product_name\")['order_id'].count().reset_index()\n",
    "df_summary= df_orders_counts.sort_values(by='order_id',ascending=False)\n",
    "df_summary"
   ]
  },
  {
   "cell_type": "code",
   "execution_count": 147,
   "metadata": {},
   "outputs": [
    {
     "data": {
      "text/html": [
       "<div>\n",
       "<style scoped>\n",
       "    .dataframe tbody tr th:only-of-type {\n",
       "        vertical-align: middle;\n",
       "    }\n",
       "\n",
       "    .dataframe tbody tr th {\n",
       "        vertical-align: top;\n",
       "    }\n",
       "\n",
       "    .dataframe thead th {\n",
       "        text-align: right;\n",
       "    }\n",
       "</style>\n",
       "<table border=\"1\" class=\"dataframe\">\n",
       "  <thead>\n",
       "    <tr style=\"text-align: right;\">\n",
       "      <th></th>\n",
       "      <th>index</th>\n",
       "      <th>product_name</th>\n",
       "    </tr>\n",
       "  </thead>\n",
       "  <tbody>\n",
       "    <tr>\n",
       "      <th>0</th>\n",
       "      <td>2</td>\n",
       "      <td>Mozzarella di Giovanni</td>\n",
       "    </tr>\n",
       "    <tr>\n",
       "      <th>1</th>\n",
       "      <td>4</td>\n",
       "      <td>Manjimup Dried Apples</td>\n",
       "    </tr>\n",
       "    <tr>\n",
       "      <th>2</th>\n",
       "      <td>6</td>\n",
       "      <td>Manjimup Dried Apples</td>\n",
       "    </tr>\n",
       "    <tr>\n",
       "      <th>3</th>\n",
       "      <td>13</td>\n",
       "      <td>Camembert Pierrot</td>\n",
       "    </tr>\n",
       "    <tr>\n",
       "      <th>4</th>\n",
       "      <td>36</td>\n",
       "      <td>Tarte au sucre</td>\n",
       "    </tr>\n",
       "    <tr>\n",
       "      <th>...</th>\n",
       "      <td>...</td>\n",
       "      <td>...</td>\n",
       "    </tr>\n",
       "    <tr>\n",
       "      <th>337</th>\n",
       "      <td>2101</td>\n",
       "      <td>Nord-Ost Matjeshering</td>\n",
       "    </tr>\n",
       "    <tr>\n",
       "      <th>338</th>\n",
       "      <td>2115</td>\n",
       "      <td>Uncle Bob's Organic Dried Pears</td>\n",
       "    </tr>\n",
       "    <tr>\n",
       "      <th>339</th>\n",
       "      <td>2134</td>\n",
       "      <td>Uncle Bob's Organic Dried Pears</td>\n",
       "    </tr>\n",
       "    <tr>\n",
       "      <th>340</th>\n",
       "      <td>2135</td>\n",
       "      <td>Northwoods Cranberry Sauce</td>\n",
       "    </tr>\n",
       "    <tr>\n",
       "      <th>341</th>\n",
       "      <td>2149</td>\n",
       "      <td>Camembert Pierrot</td>\n",
       "    </tr>\n",
       "  </tbody>\n",
       "</table>\n",
       "<p>342 rows × 2 columns</p>\n",
       "</div>"
      ],
      "text/plain": [
       "     index                     product_name\n",
       "0        2           Mozzarella di Giovanni\n",
       "1        4            Manjimup Dried Apples\n",
       "2        6            Manjimup Dried Apples\n",
       "3       13                Camembert Pierrot\n",
       "4       36                   Tarte au sucre\n",
       "..     ...                              ...\n",
       "337   2101            Nord-Ost Matjeshering\n",
       "338   2115  Uncle Bob's Organic Dried Pears\n",
       "339   2134  Uncle Bob's Organic Dried Pears\n",
       "340   2135       Northwoods Cranberry Sauce\n",
       "341   2149                Camembert Pierrot\n",
       "\n",
       "[342 rows x 2 columns]"
      ]
     },
     "execution_count": 147,
     "metadata": {},
     "output_type": "execute_result"
    }
   ],
   "source": [
    "menor_20 = df_ProductsDT_Suppliers[\"units_in_stock\"] <= 20\n",
    "sin_pedido = df_ProductsDT_Suppliers[\"units_on_order\"] == 0\n",
    "no_disc = df_ProductsDT_Suppliers['discontinued'] == 0\n",
    "\n",
    "df_restock = df_ProductsDT_Suppliers[menor_20 & sin_pedido & no_disc]['product_name'].reset_index()\n",
    "\n",
    "df_restock"
   ]
  },
  {
   "cell_type": "code",
   "execution_count": 150,
   "metadata": {},
   "outputs": [
    {
     "name": "stdout",
     "output_type": "stream",
     "text": [
      "Necesitamos hacer restock de todos estos productos pues quedan menos de 20 unidades y no hay unidades pedidas: \n",
      " ['Mozzarella di Giovanni' 'Manjimup Dried Apples' 'Camembert Pierrot'\n",
      " 'Tarte au sucre' 'Steeleye Stout' \"Uncle Bob's Organic Dried Pears\"\n",
      " 'Nord-Ost Matjeshering' 'Côte de Blaye' 'Gumbär Gummibärchen'\n",
      " 'Northwoods Cranberry Sauce']\n"
     ]
    }
   ],
   "source": [
    "print(f\"Necesitamos hacer restock de todos estos productos pues quedan menos de 20 unidades y no hay unidades pedidas: \\n\", df_restock['product_name'].unique()) "
   ]
  },
  {
   "cell_type": "code",
   "execution_count": 152,
   "metadata": {},
   "outputs": [
    {
     "data": {
      "image/png": "[encoded data removed]",
      "text/plain": [
       "<Figure size 1200x600 with 1 Axes>"
      ]
     },
     "metadata": {},
     "output_type": "display_data"
    }
   ],
   "source": [
    "top_10= df_summary.head(10)\n",
    "sv.barh(top_10[\"product_name\"], top_10['order_id'],'skyblue')"
   ]
  },
  {
   "cell_type": "code",
   "execution_count": null,
   "metadata": {},
   "outputs": [
    {
     "name": "stdout",
     "output_type": "stream",
     "text": [
      "Tenemos 15 productos que necesitan reabastecerse y como podemos ver en los graficos son bastante demandados por lo que hay que hacerlo pronto\n"
     ]
    }
   ],
   "source": [
    "print(f'Tenemos {df_restock[\"product_name\"].count()} productos que necesitan reabastecerse y como podemos ver en los graficos son bastante demandados por lo que hay que hacerlo pronto')"
   ]
  },
  {
   "cell_type": "code",
   "execution_count": 153,
   "metadata": {},
   "outputs": [],
   "source": [
    "df_ProductsDT_Suppliers.to_csv('../data/details_prod_supl.csv', index=False)\n",
    "df_customers_orders.to_csv('../data/customers_orders.csv', index=False)"
   ]
  }
 ],
 "metadata": {
  "kernelspec": {
   "display_name": "venv",
   "language": "python",
   "name": "python3"
  },
  "language_info": {
   "codemirror_mode": {
    "name": "ipython",
    "version": 3
   },
   "file_extension": ".py",
   "mimetype": "text/x-python",
   "name": "python",
   "nbconvert_exporter": "python",
   "pygments_lexer": "ipython3",
   "version": "3.9.6"
  }
 },
 "nbformat": 4,
 "nbformat_minor": 2
}
